{
 "cells": [
  {
   "cell_type": "markdown",
   "metadata": {},
   "source": [
    "# Jim's ADL demo\n",
    "\n",
    "[This repository](https://github.com/jpivarski/analysis-description-language) contains an example language parsed by PLY (a lex-yacc implementation in Python) and interpreted as an abstract syntax tree. Its purpose is to show how these tools make short work of language design and testing— 3 days and less than 3000 lines of code— and also to illustrate the syntactical points I made on Monday and Tuesday with a working language. In principle, this example language is complete enough to test on a real analysis.\n",
    "\n",
    "In our workshop, I think I got an idea of the problem you're solving: a generic programming language can express signal/control regions and systematic variations, but with too much flexibility— it hides the structure of the analysis. That's why you (both groups) introduced a block structure. However, when you want to compute complex physics objects and candidates formed by combinations of physics objects, the block structure gets unwieldy. I suggested that a functional expression-based syntax with arbitrarily deep nesting would simplify the handling of combinatorics.\n",
    "\n",
    "The language that I'll be presenting here uses blocks for its control structure and functional expressions to handle physics objects and candidates. It's not unusual for a language to have two fundamentally different types of syntax structures: Python has expressions and statements, C++ has expressions, statements, templated type expressions, preprocessor instructions, and maybe more. Only a few very pure languages (LISP, Haskell, Scala, and Rust) are expression-only.\n",
    "\n",
    "Although I wrote a fairly complete interpreter, it was written without performance in mind and is likely very slow. This is just to illustrate how the language ought to work; I have ideas about how this should be optimized (using [awkward-arrays](https://github.com/scikit-hep/awkward-array)). Interpreters are quick to write and therefore also quick to change in response to feedback. It does not perform a type-check and it operates on Python objects internally. Another implementation of the same language would use a different data representation."
   ]
  },
  {
   "cell_type": "code",
   "execution_count": 1,
   "metadata": {},
   "outputs": [],
   "source": [
    "%matplotlib inline\n",
    "import numpy\n",
    "import adl.interpreter"
   ]
  },
  {
   "cell_type": "markdown",
   "metadata": {},
   "source": [
    "## Histogramming\n",
    "\n",
    "First and foremost, it's a language for making histograms, or aggregating statistics in general. In the example below, the ADL is quoted in a string, made executable by `adl.interpreter.Run`. To run it, we call it and pass it some variables (only numbers `x` in this case)."
   ]
  },
  {
   "cell_type": "code",
   "execution_count": 2,
   "metadata": {},
   "outputs": [],
   "source": [
    "run = adl.interpreter.Run(\"\"\"\n",
    "count \"histogram\" by\n",
    "  regular(100, -5, 5) <- x\n",
    "\"\"\")\n",
    "run(x = numpy.random.normal(0, 1, 10000));"
   ]
  },
  {
   "cell_type": "markdown",
   "metadata": {},
   "source": [
    "The `run` object is a container of histograms. We can find the histograms using the names provided in the code."
   ]
  },
  {
   "cell_type": "code",
   "execution_count": 3,
   "metadata": {},
   "outputs": [
    {
     "data": {
      "text/plain": [
       "<matplotlib.axes._subplots.AxesSubplot at 0x7f040dfc7be0>"
      ]
     },
     "execution_count": 3,
     "metadata": {},
     "output_type": "execute_result"
    },
    {
     "data": {
      "image/png": "[encoded data removed]",
      "text/plain": [
       "<Figure size 432x288 with 1 Axes>"
      ]
     },
     "metadata": {
      "needs_background": "light"
     },
     "output_type": "display_data"
    }
   ],
   "source": [
    "run[\"histogram\"].plot()"
   ]
  },
  {
   "cell_type": "markdown",
   "metadata": {},
   "source": [
    "Why `count` instead of `histogram`? The `count` primitive just says we want to count something; the binning clauses after `by` say how we want to divide it up. After all, histograms are just binned counting."
   ]
  },
  {
   "cell_type": "code",
   "execution_count": 4,
   "metadata": {},
   "outputs": [],
   "source": [
    "run = adl.interpreter.Run(\"\"\"\n",
    "count \"one-bin histogram\"\n",
    "\"\"\")\n",
    "run(x = numpy.random.normal(0, 1, 10000));"
   ]
  },
  {
   "cell_type": "code",
   "execution_count": 5,
   "metadata": {},
   "outputs": [
    {
     "data": {
      "text/plain": [
       "<Count 'one-bin histogram': 10000 +- 100.0>"
      ]
     },
     "execution_count": 5,
     "metadata": {},
     "output_type": "execute_result"
    }
   ],
   "source": [
    "run[\"one-bin histogram\"]"
   ]
  },
  {
   "cell_type": "code",
   "execution_count": 6,
   "metadata": {},
   "outputs": [],
   "source": [
    "run = adl.interpreter.Run(\"\"\"\n",
    "count \"2D histogram\" by\n",
    "  regular(5, -5, 5)         <- x\n",
    "  variable(-5, -1, 0, 1, 5) <- y\n",
    "\"\"\")\n",
    "run(x = numpy.random.normal(0, 1, 10000),\n",
    "    y = numpy.random.normal(0, 1, 10000));"
   ]
  },
  {
   "cell_type": "code",
   "execution_count": 7,
   "metadata": {},
   "outputs": [
    {
     "name": "stdout",
     "output_type": "stream",
     "text": [
      "<Count '2D histogram', 'underflow', 'underflow': 0 +- 0.0>\n",
      "<Count '2D histogram', 'underflow', 0: 0 +- 0.0>\n",
      "<Count '2D histogram', 'underflow', 1: 0 +- 0.0>\n",
      "<Count '2D histogram', 'underflow', 2: 0 +- 0.0>\n",
      "<Count '2D histogram', 'underflow', 3: 0 +- 0.0>\n",
      "<Count '2D histogram', 'underflow', 'overflow': 0 +- 0.0>\n",
      "<Count '2D histogram', 'underflow', 'overflow': 0 +- 0.0>\n",
      "<Count '2D histogram', 0, 'underflow': 0 +- 0.0>\n",
      "<Count '2D histogram', 0, 0: 0 +- 0.0>\n",
      "<Count '2D histogram', 0, 1: 4 +- 2.0>\n",
      "<Count '2D histogram', 0, 2: 3 +- 1.7320508075688772>\n",
      "<Count '2D histogram', 0, 3: 3 +- 1.7320508075688772>\n",
      "<Count '2D histogram', 0, 'overflow': 0 +- 0.0>\n",
      "<Count '2D histogram', 0, 'overflow': 0 +- 0.0>\n",
      "<Count '2D histogram', 1, 'underflow': 0 +- 0.0>\n",
      "<Count '2D histogram', 1, 0: 261 +- 16.15549442140351>\n",
      "<Count '2D histogram', 1, 1: 524 +- 22.891046284519195>\n",
      "<Count '2D histogram', 1, 2: 568 +- 23.83275057562597>\n",
      "<Count '2D histogram', 1, 3: 239 +- 15.459624833740307>\n",
      "<Count '2D histogram', 1, 'overflow': 0 +- 0.0>\n",
      "<Count '2D histogram', 1, 'overflow': 0 +- 0.0>\n",
      "<Count '2D histogram', 2, 'underflow': 0 +- 0.0>\n",
      "<Count '2D histogram', 2, 0: 1054 +- 32.46536616149585>\n",
      "<Count '2D histogram', 2, 1: 2291 +- 47.86439177509728>\n",
      "<Count '2D histogram', 2, 2: 2339 +- 48.36320915737499>\n",
      "<Count '2D histogram', 2, 3: 1088 +- 32.984845004941285>\n",
      "<Count '2D histogram', 2, 'overflow': 0 +- 0.0>\n",
      "<Count '2D histogram', 2, 'overflow': 0 +- 0.0>\n",
      "<Count '2D histogram', 3, 'underflow': 0 +- 0.0>\n",
      "<Count '2D histogram', 3, 0: 271 +- 16.46207763315433>\n",
      "<Count '2D histogram', 3, 1: 545 +- 23.345235059857504>\n",
      "<Count '2D histogram', 3, 2: 534 +- 23.108440016582687>\n",
      "<Count '2D histogram', 3, 3: 269 +- 16.401219466856727>\n",
      "<Count '2D histogram', 3, 'overflow': 0 +- 0.0>\n",
      "<Count '2D histogram', 3, 'overflow': 0 +- 0.0>\n",
      "<Count '2D histogram', 4, 'underflow': 0 +- 0.0>\n",
      "<Count '2D histogram', 4, 0: 1 +- 1.0>\n",
      "<Count '2D histogram', 4, 1: 3 +- 1.7320508075688772>\n",
      "<Count '2D histogram', 4, 2: 2 +- 1.4142135623730951>\n",
      "<Count '2D histogram', 4, 3: 1 +- 1.0>\n",
      "<Count '2D histogram', 4, 'overflow': 0 +- 0.0>\n",
      "<Count '2D histogram', 4, 'overflow': 0 +- 0.0>\n",
      "<Count '2D histogram', 'overflow', 'underflow': 0 +- 0.0>\n",
      "<Count '2D histogram', 'overflow', 0: 0 +- 0.0>\n",
      "<Count '2D histogram', 'overflow', 1: 0 +- 0.0>\n",
      "<Count '2D histogram', 'overflow', 2: 0 +- 0.0>\n",
      "<Count '2D histogram', 'overflow', 3: 0 +- 0.0>\n",
      "<Count '2D histogram', 'overflow', 'overflow': 0 +- 0.0>\n",
      "<Count '2D histogram', 'overflow', 'overflow': 0 +- 0.0>\n"
     ]
    }
   ],
   "source": [
    "for i in range(-1, 6):\n",
    "    for j in range(-1, 6):\n",
    "        print(run[\"2D histogram\", i, j])"
   ]
  },
  {
   "cell_type": "markdown",
   "metadata": {},
   "source": [
    "There's no fundamental distinction between 1D, 2D, or nD histograms; they're all just 1D histograms of 1D histograms— a block of grid values to be sliced and projected. Several histogramming packages are moving this way (such as [histbook](https://github.com/scikit-hep/histbook), [Boost.Histogram](https://github.com/HDembinski/histogram), and [ROOT 7](https://root.cern.ch/root-7)).\n",
    "\n",
    "Here's a slice: bin 3 of the first axis is a 1D histogram (with variable-sized binning; see the code)."
   ]
  },
  {
   "cell_type": "code",
   "execution_count": 8,
   "metadata": {},
   "outputs": [
    {
     "data": {
      "text/plain": [
       "<matplotlib.axes._subplots.AxesSubplot at 0x7f040e011940>"
      ]
     },
     "execution_count": 8,
     "metadata": {},
     "output_type": "execute_result"
    },
    {
     "data": {
      "image/png": "[encoded data removed]",
      "text/plain": [
       "<Figure size 432x288 with 1 Axes>"
      ]
     },
     "metadata": {
      "needs_background": "light"
     },
     "output_type": "display_data"
    }
   ],
   "source": [
    "run[\"2D histogram\", 3].plot()"
   ]
  },
  {
   "cell_type": "markdown",
   "metadata": {},
   "source": [
    "An analysis includes many histograms, so an ADL source file would contain many such `count` statements and the resulting object would hold them all together in an organized way. (This could simplify the configuration of many-histogram fitters like HistFactory or Combiner.)"
   ]
  },
  {
   "cell_type": "code",
   "execution_count": 9,
   "metadata": {},
   "outputs": [],
   "source": [
    "run = adl.interpreter.Run(\"\"\"\n",
    "count \"first\" by\n",
    "  regular(100, -5, 5) <- x\n",
    "\n",
    "count \"second\" by\n",
    "  regular(100, 0, 5) <- x**2\n",
    "\"\"\")\n",
    "run(x = numpy.random.normal(0, 1, 10000));"
   ]
  },
  {
   "cell_type": "code",
   "execution_count": 10,
   "metadata": {},
   "outputs": [
    {
     "data": {
      "text/plain": [
       "<matplotlib.axes._subplots.AxesSubplot at 0x7f040e011048>"
      ]
     },
     "execution_count": 10,
     "metadata": {},
     "output_type": "execute_result"
    },
    {
     "data": {
      "image/png": "[encoded data removed]",
      "text/plain": [
       "<Figure size 432x288 with 1 Axes>"
      ]
     },
     "metadata": {
      "needs_background": "light"
     },
     "output_type": "display_data"
    }
   ],
   "source": [
    "run[\"second\"].plot()"
   ]
  },
  {
   "cell_type": "markdown",
   "metadata": {},
   "source": [
    "## Other statistical aggregations\n",
    "\n",
    "For other types of aggregations, `count` can be replaced by `sum`, `profile`, or `fraction`."
   ]
  },
  {
   "cell_type": "code",
   "execution_count": 11,
   "metadata": {},
   "outputs": [],
   "source": [
    "run = adl.interpreter.Run(\"\"\"\n",
    "count    \"first\"       # no quantity\n",
    "sum      \"second\" x    # add up x\n",
    "profile  \"third\"  x    # compute mean and variance of x\n",
    "fraction \"fourth\" p    # compute fraction for which p is true\n",
    "\"\"\")\n",
    "run(x = [1, 2, 3, 4, 5], p = [False, False, True, True, False]);"
   ]
  },
  {
   "cell_type": "code",
   "execution_count": 12,
   "metadata": {},
   "outputs": [
    {
     "data": {
      "text/plain": [
       "<Count 'first': 5 +- 2.23606797749979>"
      ]
     },
     "execution_count": 12,
     "metadata": {},
     "output_type": "execute_result"
    }
   ],
   "source": [
    "run[\"first\"]"
   ]
  },
  {
   "cell_type": "code",
   "execution_count": 13,
   "metadata": {},
   "outputs": [
    {
     "data": {
      "text/plain": [
       "<Sum 'second': 15.0>"
      ]
     },
     "execution_count": 13,
     "metadata": {},
     "output_type": "execute_result"
    }
   ],
   "source": [
    "run[\"second\"]"
   ]
  },
  {
   "cell_type": "code",
   "execution_count": 14,
   "metadata": {},
   "outputs": [
    {
     "data": {
      "text/plain": [
       "<Profile 'third': 3.0 +- 0.6324555320336759>"
      ]
     },
     "execution_count": 14,
     "metadata": {},
     "output_type": "execute_result"
    }
   ],
   "source": [
    "run[\"third\"]"
   ]
  },
  {
   "cell_type": "code",
   "execution_count": 15,
   "metadata": {},
   "outputs": [
    {
     "data": {
      "text/plain": [
       "<Fraction 'fourth': 0.4 +- 0.4680694638641432>"
      ]
     },
     "execution_count": 15,
     "metadata": {},
     "output_type": "execute_result"
    }
   ],
   "source": [
    "run[\"fourth\"]"
   ]
  },
  {
   "cell_type": "code",
   "execution_count": 16,
   "metadata": {},
   "outputs": [
    {
     "data": {
      "text/plain": [
       "0.7857225398615839"
      ]
     },
     "execution_count": 16,
     "metadata": {},
     "output_type": "execute_result"
    }
   ],
   "source": [
    "run[\"fourth\"].error(method=\"wilson\")"
   ]
  },
  {
   "cell_type": "markdown",
   "metadata": {},
   "source": [
    "Of course, they can all be weighted."
   ]
  },
  {
   "cell_type": "code",
   "execution_count": 17,
   "metadata": {},
   "outputs": [],
   "source": [
    "run = adl.interpreter.Run(\"\"\"\n",
    "count \"histogram\" by\n",
    "  regular(100, -5, 5) <- x\n",
    "  weight x**2\n",
    "\"\"\")\n",
    "run(x = numpy.random.normal(0, 1, 10000));"
   ]
  },
  {
   "cell_type": "code",
   "execution_count": 18,
   "metadata": {},
   "outputs": [
    {
     "data": {
      "text/plain": [
       "<matplotlib.axes._subplots.AxesSubplot at 0x7f040d96a6a0>"
      ]
     },
     "execution_count": 18,
     "metadata": {},
     "output_type": "execute_result"
    },
    {
     "data": {
      "image/png": "[encoded data removed]",
      "text/plain": [
       "<Figure size 432x288 with 1 Axes>"
      ]
     },
     "metadata": {
      "needs_background": "light"
     },
     "output_type": "display_data"
    }
   ],
   "source": [
    "run[\"histogram\"].plot()"
   ]
  },
  {
   "cell_type": "markdown",
   "metadata": {},
   "source": [
    "## Signal and control regions\n",
    "\n",
    "So far what we've seen could almost be done with a standard histogramming package. The reason we want a language is to simplify the organization of many control regions and systematic variations. To define groups of event selections, use the `region` keyword."
   ]
  },
  {
   "cell_type": "code",
   "execution_count": 19,
   "metadata": {},
   "outputs": [],
   "source": [
    "x = numpy.random.normal(0, 1, 10000)\n",
    "y = x + numpy.random.normal(0, 0.1, 10000)\n",
    "\n",
    "run = adl.interpreter.Run(\"\"\"\n",
    "region \"signal\": x >= 0          # may be a complex predicate with and, or, not\n",
    "{\n",
    "  count \"histogram\" by\n",
    "    regular(100, -5, 5) <- y\n",
    "}\n",
    "\n",
    "region \"control\": x < 0\n",
    "{\n",
    "  count \"histogram\" by\n",
    "    regular(100, -5, 5) <- y\n",
    "}\n",
    "\"\"\")\n",
    "run(x = x, y = y);"
   ]
  },
  {
   "cell_type": "markdown",
   "metadata": {},
   "source": [
    "The histograms are nested within each region."
   ]
  },
  {
   "cell_type": "code",
   "execution_count": 20,
   "metadata": {},
   "outputs": [
    {
     "data": {
      "text/plain": [
       "<matplotlib.axes._subplots.AxesSubplot at 0x7f040d73b668>"
      ]
     },
     "execution_count": 20,
     "metadata": {},
     "output_type": "execute_result"
    },
    {
     "data": {
      "image/png": "[encoded data removed]",
      "text/plain": [
       "<Figure size 432x288 with 1 Axes>"
      ]
     },
     "metadata": {
      "needs_background": "light"
     },
     "output_type": "display_data"
    },
    {
     "data": {
      "image/png": "[encoded data removed]",
      "text/plain": [
       "<Figure size 432x288 with 1 Axes>"
      ]
     },
     "metadata": {
      "needs_background": "light"
     },
     "output_type": "display_data"
    }
   ],
   "source": [
    "run[\"signal\", \"histogram\"].plot()\n",
    "run[\"control\", \"histogram\"].plot()"
   ]
  },
  {
   "cell_type": "markdown",
   "metadata": {},
   "source": [
    "The above example (and a lot of physics analyses!) involves dangerous duplication: we want to see the same histograms in all regions to compare them, but the names, binning, and fill expressions have to be kept the same by hand. To fix this problem, the `region` keyword can take multiple named predicates."
   ]
  },
  {
   "cell_type": "code",
   "execution_count": 21,
   "metadata": {},
   "outputs": [
    {
     "data": {
      "text/plain": [
       "<matplotlib.axes._subplots.AxesSubplot at 0x7f040d451d68>"
      ]
     },
     "execution_count": 21,
     "metadata": {},
     "output_type": "execute_result"
    },
    {
     "data": {
      "image/png": "[encoded data removed]",
      "text/plain": [
       "<Figure size 432x288 with 1 Axes>"
      ]
     },
     "metadata": {
      "needs_background": "light"
     },
     "output_type": "display_data"
    },
    {
     "data": {
      "image/png": "[encoded data removed]",
      "text/plain": [
       "<Figure size 432x288 with 1 Axes>"
      ]
     },
     "metadata": {
      "needs_background": "light"
     },
     "output_type": "display_data"
    }
   ],
   "source": [
    "run = adl.interpreter.Run(\"\"\"\n",
    "region\n",
    "  \"signal\": x >= 1      # must be separated by newlines or semicolons\n",
    "  \"control\": x < 1\n",
    "{\n",
    "  count \"histogram\" by\n",
    "    regular(100, -5, 5) <- y\n",
    "}\n",
    "\"\"\")\n",
    "run(x = x, y = y);\n",
    "\n",
    "run[\"signal\", \"histogram\"].plot()\n",
    "run[\"control\", \"histogram\"].plot()"
   ]
  },
  {
   "cell_type": "markdown",
   "metadata": {},
   "source": [
    "Now imagine an analysis with a dozens of regions and hundreds of histograms in each. We only need to write the histogram parameters once (as above) inside a `region` with all the predicates listed. If we change a histogram, we don't have to change its partners in a dozen different places.\n",
    "\n",
    "If the regions represent non-overlapping rectangles, like the bins of a histogram, then we can use the same axis syntax to generate them. This avoids copy-paste errors in the predicates themselves."
   ]
  },
  {
   "cell_type": "code",
   "execution_count": 22,
   "metadata": {},
   "outputs": [
    {
     "data": {
      "text/plain": [
       "<matplotlib.axes._subplots.AxesSubplot at 0x7f040d7547b8>"
      ]
     },
     "execution_count": 22,
     "metadata": {},
     "output_type": "execute_result"
    },
    {
     "data": {
      "image/png": "[encoded data removed]",
      "text/plain": [
       "<Figure size 432x288 with 1 Axes>"
      ]
     },
     "metadata": {
      "needs_background": "light"
     },
     "output_type": "display_data"
    },
    {
     "data": {
      "image/png": "[encoded data removed]",
      "text/plain": [
       "<Figure size 432x288 with 1 Axes>"
      ]
     },
     "metadata": {
      "needs_background": "light"
     },
     "output_type": "display_data"
    }
   ],
   "source": [
    "run = adl.interpreter.Run(\"\"\"\n",
    "region \"slices\": true by      # predicate is \"true\" because all subdivision happens in the binning\n",
    "  regular(5, -5, 5) <- x\n",
    "{\n",
    "  count \"histogram\" by\n",
    "    regular(100, -5, 5) <- y\n",
    "}\n",
    "\"\"\")\n",
    "run(x = x, y = y);\n",
    "\n",
    "run[\"slices\", 2, \"histogram\"].plot()\n",
    "run[\"slices\", 3, \"histogram\"].plot()"
   ]
  },
  {
   "cell_type": "markdown",
   "metadata": {},
   "source": [
    "Now that we're defining rectangular regions and the bins of histograms using the same mechanism and extracting them using the same mechanism: strings for named regions and integers for sequential slices."
   ]
  },
  {
   "cell_type": "code",
   "execution_count": 23,
   "metadata": {},
   "outputs": [
    {
     "data": {
      "text/plain": [
       "<Count 'slices', 3, 'histogram', 75: 11 +- 3.3166247903554>"
      ]
     },
     "execution_count": 23,
     "metadata": {},
     "output_type": "execute_result"
    }
   ],
   "source": [
    "run[\"slices\", 3, \"histogram\", 75]"
   ]
  },
  {
   "cell_type": "markdown",
   "metadata": {},
   "source": [
    "And of course, `regions` can be nested. A particularly complex analysis might need that. (This also is the reason for the curly brackets, to make the structure clear.)"
   ]
  },
  {
   "cell_type": "code",
   "execution_count": 24,
   "metadata": {},
   "outputs": [
    {
     "name": "stdout",
     "output_type": "stream",
     "text": [
      "<Count 'slices', 'underflow', 'one', 'counter': 0 +- 0.0>\n",
      "<Count 'slices', 'underflow', 'two', 'counter': 0 +- 0.0>\n",
      "<Count 'slices', 'underflow', 'three', 'counter': 0 +- 0.0>\n",
      "<Count 'slices', 0, 'one', 'counter': 1 +- 1.0>\n",
      "<Count 'slices', 0, 'two', 'counter': 0 +- 0.0>\n",
      "<Count 'slices', 0, 'three', 'counter': 0 +- 0.0>\n",
      "<Count 'slices', 1, 'one', 'counter': 1592 +- 39.89987468652001>\n",
      "<Count 'slices', 1, 'two', 'counter': 0 +- 0.0>\n",
      "<Count 'slices', 1, 'three', 'counter': 0 +- 0.0>\n",
      "<Count 'slices', 2, 'one', 'counter': 6845 +- 82.73451516749222>\n",
      "<Count 'slices', 2, 'two', 'counter': 3355 +- 57.92236183029832>\n",
      "<Count 'slices', 2, 'three', 'counter': 0 +- 0.0>\n",
      "<Count 'slices', 3, 'one', 'counter': 1538 +- 39.21734310225516>\n",
      "<Count 'slices', 3, 'two', 'counter': 1538 +- 39.21734310225516>\n",
      "<Count 'slices', 3, 'three', 'counter': 4 +- 2.0>\n",
      "<Count 'slices', 4, 'one', 'counter': 14 +- 3.7416573867739413>\n",
      "<Count 'slices', 4, 'two', 'counter': 14 +- 3.7416573867739413>\n",
      "<Count 'slices', 4, 'three', 'counter': 14 +- 3.7416573867739413>\n",
      "<Count 'slices', 'overflow', 'one', 'counter': 0 +- 0.0>\n",
      "<Count 'slices', 'overflow', 'two', 'counter': 0 +- 0.0>\n",
      "<Count 'slices', 'overflow', 'three', 'counter': 0 +- 0.0>\n"
     ]
    }
   ],
   "source": [
    "run = adl.interpreter.Run(\"\"\"\n",
    "region \"slices\": true by\n",
    "  regular(5, -5, 5) <- x\n",
    "{\n",
    "  region \"one\":   y > -3\n",
    "         \"two\":   y >  0\n",
    "         \"three\": y >  3\n",
    "  {\n",
    "    count \"counter\"\n",
    "  }\n",
    "}\n",
    "\"\"\")\n",
    "run(x = x, y = y);\n",
    "\n",
    "for i in range(-1, 6):\n",
    "    for j in \"one\", \"two\", \"three\":\n",
    "        print(run[\"slices\", i, j, \"counter\"])"
   ]
  },
  {
   "cell_type": "markdown",
   "metadata": {},
   "source": [
    "## Systematic variations\n",
    "\n",
    "Another aspect of physics analysis that often involves code duplication is varying quantities to gauge systematic errors. We want those in some auto-duplicating structure as well.\n",
    "\n",
    "The `vary` block defines sets of named parameters, which can be placed inside of `regions` or may contain `regions`."
   ]
  },
  {
   "cell_type": "code",
   "execution_count": 25,
   "metadata": {},
   "outputs": [
    {
     "data": {
      "text/plain": [
       "<matplotlib.axes._subplots.AxesSubplot at 0x7f040d0e6710>"
      ]
     },
     "execution_count": 25,
     "metadata": {},
     "output_type": "execute_result"
    },
    {
     "data": {
      "image/png": "[encoded data removed]",
      "text/plain": [
       "<Figure size 432x288 with 1 Axes>"
      ]
     },
     "metadata": {
      "needs_background": "light"
     },
     "output_type": "display_data"
    },
    {
     "data": {
      "image/png": "[encoded data removed]",
      "text/plain": [
       "<Figure size 432x288 with 1 Axes>"
      ]
     },
     "metadata": {
      "needs_background": "light"
     },
     "output_type": "display_data"
    },
    {
     "data": {
      "image/png": "[encoded data removed]",
      "text/plain": [
       "<Figure size 432x288 with 1 Axes>"
      ]
     },
     "metadata": {
      "needs_background": "light"
     },
     "output_type": "display_data"
    }
   ],
   "source": [
    "run = adl.interpreter.Run(\"\"\"\n",
    "vary\n",
    "  \"central\":    epsilon :=  0       # assignments use := for clarity\n",
    "  \"sigma up\":   epsilon :=  0.5\n",
    "  \"sigma down\": epsilon := -0.5\n",
    "{\n",
    "  count \"histogram\" by\n",
    "    regular(100, -5, 5) <- x + epsilon\n",
    "}\n",
    "\"\"\")\n",
    "run(x = numpy.random.normal(0, 1, 10000));\n",
    "\n",
    "run[\"central\", \"histogram\"].plot()\n",
    "run[\"sigma up\", \"histogram\"].plot()\n",
    "run[\"sigma down\", \"histogram\"].plot()"
   ]
  },
  {
   "cell_type": "markdown",
   "metadata": {},
   "source": [
    "## Selecting by source\n",
    "\n",
    "Often the data and Monte Carlo samples representing distinct signal and background processes are in different files. We'll need to run the analysis code over each sample separately, but we'd like to use the same analysis definition to avoid copy-paste errors. However, quantities that are important to track in some samples— like comparisons to \"truth\" in Monte Carlo samples— can't even be calculated in others— like the real data.\n",
    "\n",
    "The `source` block allows us to filter by source name; regions and statistical collectors that aren't relevant for a given source aren't even allocated."
   ]
  },
  {
   "cell_type": "code",
   "execution_count": 26,
   "metadata": {},
   "outputs": [],
   "source": [
    "run = adl.interpreter.Run(\"\"\"\n",
    "source \"data-*\"         # accepts wildcards (POSIX glob pattern)\n",
    "{\n",
    "  count \"only data\"\n",
    "}\n",
    "\n",
    "not source \"data-*\"\n",
    "{\n",
    "  count \"only MC\"\n",
    "}\n",
    "\n",
    "count \"both\"\n",
    "\"\"\")\n",
    "run(\"data-123\", x = [1, 2, 3]);\n",
    "run(\"mc-12345\", x = [1, 2, 3, 4, 5]);"
   ]
  },
  {
   "cell_type": "code",
   "execution_count": 27,
   "metadata": {},
   "outputs": [
    {
     "data": {
      "text/plain": [
       "<Count 'only data': 3 +- 1.7320508075688772>"
      ]
     },
     "execution_count": 27,
     "metadata": {},
     "output_type": "execute_result"
    }
   ],
   "source": [
    "run[\"only data\"]"
   ]
  },
  {
   "cell_type": "code",
   "execution_count": 28,
   "metadata": {},
   "outputs": [
    {
     "data": {
      "text/plain": [
       "<Count 'only MC': 5 +- 2.23606797749979>"
      ]
     },
     "execution_count": 28,
     "metadata": {},
     "output_type": "execute_result"
    }
   ],
   "source": [
    "run[\"only MC\"]"
   ]
  },
  {
   "cell_type": "code",
   "execution_count": 29,
   "metadata": {},
   "outputs": [
    {
     "data": {
      "text/plain": [
       "<Count 'both': 8 +- 2.8284271247461903>"
      ]
     },
     "execution_count": 29,
     "metadata": {},
     "output_type": "execute_result"
    }
   ],
   "source": [
    "run[\"both\"]"
   ]
  },
  {
   "cell_type": "markdown",
   "metadata": {},
   "source": [
    "## Counting non-scalar quantities\n",
    "\n",
    "Until now, we've been using streams of numbers for testing. A real analysis operates on objects and nested lists of objects, which we'll be focusing on in the discussion of expression syntax in the following sections. However, there is one block structure concerned with list structure: the `for` loop.\n",
    "\n",
    "Despite what I said about implicit loops being okay for analysis (and some expressions will perform implicit loops in their calculations), the statistical counters should be explicit about whether they're counting objects or objects within objects. I wouldn't want a student to be struggling with why their histograms add up to different totals, only to discover that some minor syntactic point initiated an implicit loop around their counter.\n",
    "\n",
    "Therefore, loops _that can contain statistical counters_ must be in an explicit loop."
   ]
  },
  {
   "cell_type": "code",
   "execution_count": 30,
   "metadata": {},
   "outputs": [],
   "source": [
    "run = adl.interpreter.Run(\"\"\"\n",
    "count \"per object\"\n",
    "\n",
    "for item in x              # can \"zip\" together equal-sized lists with item1 in x1 ; item2 in x2 ; ...\n",
    "{\n",
    "  count \"per item\"\n",
    "}\n",
    "\"\"\")\n",
    "run(x = [[1, 2, 3], [], [4, 5]]);"
   ]
  },
  {
   "cell_type": "code",
   "execution_count": 31,
   "metadata": {},
   "outputs": [
    {
     "data": {
      "text/plain": [
       "<Count 'per object': 3 +- 1.7320508075688772>"
      ]
     },
     "execution_count": 31,
     "metadata": {},
     "output_type": "execute_result"
    }
   ],
   "source": [
    "run[\"per object\"]"
   ]
  },
  {
   "cell_type": "code",
   "execution_count": 32,
   "metadata": {},
   "outputs": [
    {
     "data": {
      "text/plain": [
       "<Count 'per item': 5 +- 2.23606797749979>"
      ]
     },
     "execution_count": 32,
     "metadata": {},
     "output_type": "execute_result"
    }
   ],
   "source": [
    "run[\"per item\"]"
   ]
  },
  {
   "cell_type": "markdown",
   "metadata": {},
   "source": [
    "## Assignment: defining quantities and functions\n",
    "\n",
    "Now we're moving from the block syntax to a discussion of expressions. Whereas the block syntax is special-purpose to the task of making organized collections of histograms, the expression syntax is conventional. My goal was to invent as little as possible, taking the simplest and most common syntax from popular languages. While physicists are supposed to focus on the logic of defining signal and control regions for their analysis, the expression syntax should come naturally— it should not be the subject of focus.\n",
    "\n",
    "However, Gokhan brought up the point (which I highly agree with) that using a single `=` for assignment is bad form. Assignment is different from equality; in particular, it's asymmetric (the thing on the left gets defined, the thing on the right is its definition). Although `=` for assignment is widespread, following FORTRAN, there's another tradition (from ALGOL to Pascal to XQuery) of using `:=`.\n",
    "\n",
    "As it stands, this ADL has no `=` operator at all (it's always a syntax error); one can only use `:=` for assignment or `==` for equality checking. This is easy to change."
   ]
  },
  {
   "cell_type": "code",
   "execution_count": 33,
   "metadata": {},
   "outputs": [
    {
     "data": {
      "text/plain": [
       "{'x': [1, 2, 3], 'y': [10, 20, 30]}"
      ]
     },
     "execution_count": 33,
     "metadata": {},
     "output_type": "execute_result"
    }
   ],
   "source": [
    "run = adl.interpreter.Run(\"\"\"\n",
    "\n",
    "y := x * 10\n",
    "\n",
    "\"\"\")\n",
    "run(x = [1, 2, 3])"
   ]
  },
  {
   "cell_type": "markdown",
   "metadata": {},
   "source": [
    "Until now, we've been hiding the output of calling `run`, showing only the histograms it contains after execution. It's an implementation-specific choice, but this implementation returns the input quantities and all values assigned at the highest scope. That makes these analysis scripts _chainable—_ you can pass the output of one into the input of the next.\n",
    "\n",
    "I mentioned scope: when a symbol is defined, it can be used in that level of curly brackets or any nested levels, but not outside of the curly brackets in which it's defined. This is exactly like C.\n",
    "\n",
    "Unlike C and Python, functions are defined \"the same way.\" That is, you put the function name and parameters on the left of the `:=` and its intended value on the right. This is a popular convention among functional languages (ML/OCaml, Haskell, F#, Scala, Elm) and languages intended for doing mathematics (Julia, Mathematica, Maxima, Prolog) because it looks like math."
   ]
  },
  {
   "cell_type": "code",
   "execution_count": 34,
   "metadata": {},
   "outputs": [
    {
     "data": {
      "text/plain": [
       "{'x': [1, 2, 3], 'y': [10, 20, 30]}"
      ]
     },
     "execution_count": 34,
     "metadata": {},
     "output_type": "execute_result"
    }
   ],
   "source": [
    "run = adl.interpreter.Run(\"\"\"\n",
    "\n",
    "f(z) := z * 10\n",
    "\n",
    "y := f(x)\n",
    "\n",
    "\"\"\")\n",
    "run(x = [1, 2, 3])"
   ]
  },
  {
   "cell_type": "markdown",
   "metadata": {},
   "source": [
    "Longer functions can be written as a sequence of assignments ending in an expression, as long as they're wrapped in curly brackets (which also limits the scope of temporary variables defined in the function)."
   ]
  },
  {
   "cell_type": "code",
   "execution_count": 35,
   "metadata": {},
   "outputs": [
    {
     "data": {
      "text/plain": [
       "{'x': [1, 2, 3], 'y': [2, 5, 10]}"
      ]
     },
     "execution_count": 35,
     "metadata": {},
     "output_type": "execute_result"
    }
   ],
   "source": [
    "run = adl.interpreter.Run(\"\"\"\n",
    "\n",
    "f(z) := {\n",
    "  q := z**2         # non-last statement must be an assignment\n",
    "  q + 1             # last statement must be an expression; the return value\n",
    "}\n",
    "\n",
    "y := f(x)\n",
    "\n",
    "\"\"\")\n",
    "run(x = [1, 2, 3])"
   ]
  },
  {
   "cell_type": "markdown",
   "metadata": {},
   "source": [
    "What if we tried to use a temporary variable outside of its scope? We'll get an error, of course. Since this language is built up from a lex-yacc parser, tracking line numbers at each step, the error messages are useful. (Only potential issue with this implementation: the line number is the line number in the ADL source file, not the Python source file, so a search in a text editor may be confusing. The line is quoted with an arrow under the error, though.)"
   ]
  },
  {
   "cell_type": "code",
   "execution_count": 36,
   "metadata": {},
   "outputs": [
    {
     "name": "stdout",
     "output_type": "stream",
     "text": [
      "Line 8: no symbol named 'q' in this scope\n",
      "    y := f(x) + q\n",
      "----------------^\n"
     ]
    }
   ],
   "source": [
    "run = adl.interpreter.Run(\"\"\"\n",
    "\n",
    "f(z) := {\n",
    "  q := z**2\n",
    "  q + 1\n",
    "}\n",
    "\n",
    "y := f(x) + q\n",
    "\n",
    "\"\"\")\n",
    "\n",
    "try:\n",
    "    run(x = [1, 2, 3])\n",
    "except Exception as err:\n",
    "    print(err)"
   ]
  },
  {
   "cell_type": "markdown",
   "metadata": {},
   "source": [
    "## Expression syntax\n",
    "\n",
    "For the expressions themselves, I decided to be very conventional: they are identical to Python. When building up a data analysis, the last thing on the analyst's mind is syntax. We have no reason to invent anything new— we just have to embed a familiar-enough syntax into our block language.\n",
    "\n",
    "It could as easily have been C syntax, but Python has a few niceties."
   ]
  },
  {
   "cell_type": "code",
   "execution_count": 37,
   "metadata": {},
   "outputs": [
    {
     "data": {
      "text/plain": [
       "{'x': [20, 25, 30, 35, 40, 45], 'y': [False, False, True, True, False, False]}"
      ]
     },
     "execution_count": 37,
     "metadata": {},
     "output_type": "execute_result"
    }
   ],
   "source": [
    "run = adl.interpreter.Run(\"\"\"\n",
    "\n",
    "y := (30 <= x < 40)      # means (30 <= x) and (x < 40)\n",
    "\n",
    "\"\"\")\n",
    "run(x = [20, 25, 30, 35, 40, 45])"
   ]
  },
  {
   "cell_type": "markdown",
   "metadata": {},
   "source": [
    "And of course the order of operations is right (from loosest to tightest):\n",
    "\n",
    "   * commas in function arguments\n",
    "   * logical or\n",
    "   * logical and\n",
    "   * logical not\n",
    "   * comparisons (equality and inequalities), including the implicit \"and\" when comparisons are chained\n",
    "   * binary plus and minus (between two values)\n",
    "   * times, divide, and modulo\n",
    "   * unary plus and minus (before a value)\n",
    "   * exponentiation, for which I have chosen Python's and FORTRAN's `**` instead of `^`\n",
    "   * parenthesized expressions"
   ]
  },
  {
   "cell_type": "code",
   "execution_count": 38,
   "metadata": {},
   "outputs": [
    {
     "data": {
      "text/plain": [
       "{'x': [1, 2, 3, 4, 5], 'y': [12, 14, 16, 18, 20]}"
      ]
     },
     "execution_count": 38,
     "metadata": {},
     "output_type": "execute_result"
    }
   ],
   "source": [
    "run = adl.interpreter.Run(\"\"\"\n",
    "\n",
    "y := 10 + x * 2\n",
    "\n",
    "\"\"\")\n",
    "run(x = [1, 2, 3, 4, 5])"
   ]
  },
  {
   "cell_type": "markdown",
   "metadata": {},
   "source": [
    "## Builtin functions\n",
    "\n",
    "We talked about what should be the starter set of math functions and how we would go about choosing that. Months ago, [I had a conversation](https://github.com/pydata/numexpr/issues/304) with the author of NumExpr about exactly this, so I looked it up and based a first implementation on what we'd agreed on.\n",
    "\n",
    "**Basic math:** sqrt, exp, exp2, log, log2, log10, sin, cos, tan, arcsin, arccos, arctan, arctan2, hypot, rad2deg, deg2rad, sinh, cosh, tanh, arcsinh, arccosh, arctanh\n",
    "\n",
    "**Special functions:** erf, erfc, factorial, gamma, lgamma\n",
    "\n",
    "**Rounding and discontinuous:** abs, round, floor, ceil, sign, heaviside\n",
    "\n",
    "**Fast calculations of common combinations:** expm1, log1p, ldexp, logaddexp, logaddexp2\n",
    "\n",
    "**Number type:** isfinite, isinf, isnan\n",
    "\n",
    "**Bit-level detail:** nextafter, nextbefore, nexttoward"
   ]
  },
  {
   "cell_type": "code",
   "execution_count": 39,
   "metadata": {},
   "outputs": [
    {
     "data": {
      "text/plain": [
       "{'x': [1, 2, 3, 4, 5],\n",
       " 'y': [1.0, 1.4142135623730951, 1.7320508075688772, 2.0, 2.23606797749979]}"
      ]
     },
     "execution_count": 39,
     "metadata": {},
     "output_type": "execute_result"
    }
   ],
   "source": [
    "run = adl.interpreter.Run(\"\"\"\n",
    "\n",
    "y := sqrt(x)\n",
    "\n",
    "\"\"\")\n",
    "run(x = [1, 2, 3, 4, 5])"
   ]
  },
  {
   "cell_type": "markdown",
   "metadata": {},
   "source": [
    "## Domain-specific types: Lorentz vectors\n",
    "\n",
    "More relevant are the functions that operate on physics objects representing particles. The conventional way to access data from an object is to put a dot and the name of that property after the object. As discussed in the workshop, these don't have to be literal values in memory— they may be generated from available data on demand. There is no reason to distinguish values in memory from zero-argument member functions with parentheses: `particle.pt()` vs `particle.pt`.\n",
    "\n",
    "Separation of data presentation and in-memory representation is the defining characteristic of a high-level language. Some high-level languages, like Python, let you choose which properties to access without parentheses when you're defining the class. Other high-level languages, like Scala, let you choose whether to add the parentheses when you're _accessing_ the data. They really are superfluous."
   ]
  },
  {
   "cell_type": "code",
   "execution_count": 40,
   "metadata": {},
   "outputs": [
    {
     "data": {
      "text/plain": [
       "[2.23606797749979, 1, 1]"
      ]
     },
     "execution_count": 40,
     "metadata": {},
     "output_type": "execute_result"
    }
   ],
   "source": [
    "run = adl.interpreter.Run(\"\"\"\n",
    "\n",
    "out := particle.pt\n",
    "\n",
    "\"\"\")\n",
    "\n",
    "particle = [{\"px\": 1, \"py\": 2, \"pz\": 3, \"energy\": 4, \"charge\":  1},    # cartesian: calculate pt\n",
    "            {\"pt\": 1, \"eta\": 2, \"phi\": 3, \"mass\": 4, \"charge\": -1},    # cylindrical: return pt\n",
    "            {\"pt\": 1, \"eta\": 2, \"phi\": 3, \"mass\": 4}]                  # only kinematics matter\n",
    "\n",
    "run(particle = particle)[\"out\"]"
   ]
  },
  {
   "cell_type": "code",
   "execution_count": 41,
   "metadata": {},
   "outputs": [
    {
     "name": "stdout",
     "output_type": "stream",
     "text": [
      "Line 3: function raised AttributeError: 'dict' object has no attribute 'pt'\n",
      "    out := particle.pt\n",
      "-------------------^\n"
     ]
    }
   ],
   "source": [
    "try:\n",
    "    run(particle = [{\"px\": 1}])                                        # but you must at least have kinematics\n",
    "except Exception as err:\n",
    "    print(err)"
   ]
  },
  {
   "cell_type": "markdown",
   "metadata": {},
   "source": [
    "Although this was implemented in a dynamicly typed function (and this ADL interpreter is dynamically typed as well), the same effect can be achieved in a statically typed language with [structural typing](https://en.wikipedia.org/wiki/Structural_type_system). We need to define a _protocol_ for dealing with Lorentz vectors, but not an explicit representation."
   ]
  },
  {
   "cell_type": "markdown",
   "metadata": {},
   "source": [
    "## Structure manipulations\n",
    "\n",
    "You may have noticed that I made no mention of \"physics objects\" in the block structure of the language. It was purely for defining how events fill histograms (or sub-event structures, using the `for` loop). That's because the structure manipulations for making and refining particle candidates can be expressed with functional programming.\n",
    "\n",
    "For example, suppose we want to combine muons into Z candidates."
   ]
  },
  {
   "cell_type": "code",
   "execution_count": 42,
   "metadata": {},
   "outputs": [],
   "source": [
    "muons = [[{'px': -52.89946, 'py': -11.65467, 'pz': -8.16079, 'energy': 54.7795},\n",
    "          {'px': 37.73778, 'py': 0.69347, 'pz': -11.30758, 'energy': 39.4017}],\n",
    "         [{'px': -0.81646, 'py': -24.40426, 'pz': 20.19997, 'energy': 31.69044}],\n",
    "         [{'px': 48.98783, 'py': -21.72314, 'pz': 11.16829, 'energy': 54.73979},\n",
    "          {'px': 0.82757, 'py': 29.80051, 'pz': 36.96519, 'energy': 47.48886}],\n",
    "         [{'px': 22.08833, 'py': -85.83546, 'pz': 403.84845, 'energy': 413.46002},\n",
    "          {'px': 76.69192, 'py': -13.95649, 'pz': 335.09421, 'energy': 344.04153}],\n",
    "         [{'px': 45.17132, 'py': 67.24879, 'pz': -89.69573, 'energy': 120.86432},\n",
    "          {'px': 39.75096, 'py': 25.40367, 'pz': 20.11505, 'energy': 51.28461}],\n",
    "         [{'px': 9.22811, 'py': 40.55438, 'pz': -14.64216, 'energy': 44.09331},\n",
    "          {'px': -5.79372, 'py': -30.29519, 'pz': 42.95438, 'energy': 52.88152}],\n",
    "         [{'px': 12.53872, 'py': -42.54871, 'pz': -124.44899, 'energy': 132.11803},\n",
    "          {'px': 29.54184, 'py': -4.44552, 'pz': -26.35655, 'energy': 39.8392}],\n",
    "         [{'px': 34.88376, 'py': -15.98272, 'pz': 155.53117, 'energy': 160.19452}],\n",
    "         [{'px': -53.16697, 'py': 92.02971, 'pz': 35.63884, 'energy': 112.09965},\n",
    "          {'px': 11.49187, 'py': -4.41739, 'pz': -17.47379, 'energy': 21.37571}],\n",
    "         [{'px': -67.01485, 'py': 53.15917, 'pz': 54.41294, 'energy': 101.37883},\n",
    "          {'px': -18.11876, 'py': -35.10617, 'pz': 58.0369, 'energy': 70.20702}],\n",
    "         [{'px': 15.98303, 'py': 49.11392, 'pz': 118.14836, 'energy': 128.94449},\n",
    "          {'px': 34.68441, 'py': -30.96738, 'pz': 193.67882, 'energy': 199.18204}],\n",
    "         [{'px': -70.51191, 'py': -27.018, 'pz': -15.32515, 'energy': 77.05046},\n",
    "          {'px': -38.02874, 'py': 33.25009, 'pz': -70.31803, 'energy': 86.5817}],\n",
    "         [{'px': 58.94381, 'py': 53.77843, 'pz': 38.63808, 'energy': 88.65329}],\n",
    "         [{'px': -15.58787, 'py': -21.09038, 'pz': -2.22933, 'energy': 26.32047}],\n",
    "         [{'px': -122.33012, 'py': 37.77131, 'pz': -215.75999, 'energy': 250.88586},\n",
    "          {'px': -1.05975, 'py': 49.60892, 'pz': -69.04716, 'energy': 85.02759}],\n",
    "         [{'px': -46.70415, 'py': -28.66672, 'pz': 8.28177, 'energy': 55.42253},\n",
    "          {'px': 39.02002, 'py': 18.71108, 'pz': -13.49476, 'energy': 45.32976}],\n",
    "         [{'px': 51.29466, 'py': -16.85857, 'pz': 47.35022, 'energy': 71.81509},\n",
    "          {'px': 17.45092, 'py': 25.66767, 'pz': -29.31544, 'energy': 42.69391}],\n",
    "         [{'px': 43.2812, 'py': -17.84495, 'pz': -119.52125, 'energy': 128.36295}],\n",
    "         [{'px': -45.92393, 'py': 15.23271, 'pz': -14.82476, 'energy': 50.60462},\n",
    "          {'px': 22.54977, 'py': -3.65716, 'pz': -86.19814, 'energy': 89.17397}],\n",
    "         [{'px': 43.29361, 'py': 25.70282, 'pz': 96.64295, 'energy': 108.97176},\n",
    "          {'px': -33.28158, 'py': 6.87535, 'pz': 14.86385, 'energy': 37.09285},\n",
    "          {'px': -4.37619, 'py': -19.02892, 'pz': -34.15688, 'energy': 39.34405}],\n",
    "         [{'px': -27.43815, 'py': -52.50413, 'pz': -38.53326, 'energy': 70.67078},\n",
    "          {'px': 28.94416, 'py': 11.22752, 'pz': 15.83478, 'energy': 34.85073}],\n",
    "         [{'px': -24.2005, 'py': 31.07205, 'pz': 12.58766, 'energy': 41.34727},\n",
    "          {'px': 26.48993, 'py': 13.59609, 'pz': 138.76196, 'energy': 141.92062}],\n",
    "         [{'px': 41.23143, 'py': 30.71335, 'pz': -92.04125, 'energy': 105.42744},\n",
    "          {'px': -39.87832, 'py': -4.66021, 'pz': -48.14925, 'energy': 62.69258}],\n",
    "         [{'px': -29.21921, 'py': -47.15208, 'pz': -43.85278, 'energy': 70.71179}],\n",
    "         [{'px': -61.25238, 'py': -13.57999, 'pz': -104.55434, 'energy': 121.93396}],\n",
    "         [{'px': 7.96841, 'py': 51.32637, 'pz': -82.80624, 'energy': 97.74854},\n",
    "          {'px': -15.082, 'py': -31.8766, 'pz': -9.57083, 'energy': 36.54034}],\n",
    "         [{'px': 8.99396, 'py': -24.18176, 'pz': -48.57234, 'energy': 54.99938}],\n",
    "         [{'px': -28.64058, 'py': 41.36348, 'pz': -54.63372, 'energy': 74.27028}],\n",
    "         [{'px': 22.6369, 'py': -66.99755, 'pz': -53.38839, 'energy': 88.60831},\n",
    "          {'px': -28.2125, 'py': 4.61466, 'pz': 9.84851, 'energy': 30.23648}],\n",
    "         [{'px': 59.9748, 'py': 38.37789, 'pz': -202.81454, 'energy': 214.9502},\n",
    "          {'px': -46.90805, 'py': -7.24472, 'pz': -35.08104, 'energy': 59.02154}]]"
   ]
  },
  {
   "cell_type": "markdown",
   "metadata": {},
   "source": [
    "The following computes (and histograms) _all_ of the candidates, using only distinct pairs of muons. We see that from semi-implicit loops over candidates (the `map` functional is not really implicit, just succinct) and the explicit loop over the histogram filler. As I said above, it's more important to be explicit about loops if there is mutable state (an increasing counter) at stake."
   ]
  },
  {
   "cell_type": "code",
   "execution_count": 44,
   "metadata": {},
   "outputs": [
    {
     "data": {
      "text/plain": [
       "<matplotlib.axes._subplots.AxesSubplot at 0x7f040ce65978>"
      ]
     },
     "execution_count": 44,
     "metadata": {},
     "output_type": "execute_result"
    },
    {
     "data": {
      "image/png": "[encoded data removed]",
      "text/plain": [
       "<Figure size 432x288 with 1 Axes>"
      ]
     },
     "metadata": {
      "needs_background": "light"
     },
     "output_type": "display_data"
    }
   ],
   "source": [
    "run = adl.interpreter.Run(\"\"\"\n",
    "region \"two muons\": muons.size >= 2\n",
    "{\n",
    "\n",
    "  zmasses := muons.distincts.map(pair => (pair[0] + pair[1]).mass)\n",
    "\n",
    "  for zmass in zmasses\n",
    "  {\n",
    "    count \"zmass\" by\n",
    "      regular(12, 0, 120) <- zmass\n",
    "  }\n",
    "\n",
    "}\n",
    "\"\"\")\n",
    "run(muons = muons)\n",
    "run[\"two muons\", \"zmass\"].plot()"
   ]
  },
  {
   "cell_type": "code",
   "execution_count": 46,
   "metadata": {},
   "outputs": [
    {
     "ename": "ADLRuntimeError",
     "evalue": "Line 9: function raised TypeError: 'float' object is not iterable\n                    .flatten\n--------------------^",
     "output_type": "error",
     "traceback": [
      "\u001b[0;31m---------------------------------------------------------------------------\u001b[0m",
      "\u001b[0;31mTypeError\u001b[0m                                 Traceback (most recent call last)",
      "\u001b[0;32m~/diana/analysis-description-language/binder/adl/interpreter.py\u001b[0m in \u001b[0;36mcalculate\u001b[0;34m(expression, symboltable)\u001b[0m\n\u001b[1;32m     81\u001b[0m                     \u001b[0;32melif\u001b[0m \u001b[0misinstance\u001b[0m\u001b[0;34m(\u001b[0m\u001b[0maccept\u001b[0m\u001b[0;34m,\u001b[0m \u001b[0mExpression\u001b[0m\u001b[0;34m)\u001b[0m\u001b[0;34m:\u001b[0m\u001b[0;34m\u001b[0m\u001b[0m\n\u001b[0;32m---> 82\u001b[0;31m                         \u001b[0;32mreturn\u001b[0m \u001b[0mfunction\u001b[0m\u001b[0;34m(\u001b[0m\u001b[0maccept\u001b[0m\u001b[0;34m,\u001b[0m \u001b[0;34m*\u001b[0m\u001b[0mvalues\u001b[0m\u001b[0;34m)\u001b[0m\u001b[0;34m\u001b[0m\u001b[0m\n\u001b[0m\u001b[1;32m     83\u001b[0m                 \u001b[0;32mexcept\u001b[0m \u001b[0mException\u001b[0m \u001b[0;32mas\u001b[0m \u001b[0merr\u001b[0m\u001b[0;34m:\u001b[0m\u001b[0;34m\u001b[0m\u001b[0m\n",
      "\u001b[0;32m~/diana/analysis-description-language/binder/adl/interpreter.py\u001b[0m in \u001b[0;36mlistfunctions\u001b[0;34m(expression, data, name)\u001b[0m\n\u001b[1;32m    809\u001b[0m     \u001b[0;32melif\u001b[0m \u001b[0mname\u001b[0m \u001b[0;34m==\u001b[0m \u001b[0;34m\"flatten\"\u001b[0m\u001b[0;34m:\u001b[0m\u001b[0;34m\u001b[0m\u001b[0m\n\u001b[0;32m--> 810\u001b[0;31m         \u001b[0;32mreturn\u001b[0m \u001b[0;34m[\u001b[0m\u001b[0mitem\u001b[0m \u001b[0;32mfor\u001b[0m \u001b[0msublist\u001b[0m \u001b[0;32min\u001b[0m \u001b[0mdata\u001b[0m \u001b[0;32mfor\u001b[0m \u001b[0mitem\u001b[0m \u001b[0;32min\u001b[0m \u001b[0msublist\u001b[0m\u001b[0;34m]\u001b[0m\u001b[0;34m\u001b[0m\u001b[0m\n\u001b[0m\u001b[1;32m    811\u001b[0m \u001b[0;34m\u001b[0m\u001b[0m\n",
      "\u001b[0;32m~/diana/analysis-description-language/binder/adl/interpreter.py\u001b[0m in \u001b[0;36m<listcomp>\u001b[0;34m(.0)\u001b[0m\n\u001b[1;32m    809\u001b[0m     \u001b[0;32melif\u001b[0m \u001b[0mname\u001b[0m \u001b[0;34m==\u001b[0m \u001b[0;34m\"flatten\"\u001b[0m\u001b[0;34m:\u001b[0m\u001b[0;34m\u001b[0m\u001b[0m\n\u001b[0;32m--> 810\u001b[0;31m         \u001b[0;32mreturn\u001b[0m \u001b[0;34m[\u001b[0m\u001b[0mitem\u001b[0m \u001b[0;32mfor\u001b[0m \u001b[0msublist\u001b[0m \u001b[0;32min\u001b[0m \u001b[0mdata\u001b[0m \u001b[0;32mfor\u001b[0m \u001b[0mitem\u001b[0m \u001b[0;32min\u001b[0m \u001b[0msublist\u001b[0m\u001b[0;34m]\u001b[0m\u001b[0;34m\u001b[0m\u001b[0m\n\u001b[0m\u001b[1;32m    811\u001b[0m \u001b[0;34m\u001b[0m\u001b[0m\n",
      "\u001b[0;31mTypeError\u001b[0m: 'float' object is not iterable",
      "\nDuring handling of the above exception, another exception occurred:\n",
      "\u001b[0;31mADLRuntimeError\u001b[0m                           Traceback (most recent call last)",
      "\u001b[0;32m<ipython-input-46-1ad1630d1e1c>\u001b[0m in \u001b[0;36m<module>\u001b[0;34m()\u001b[0m\n\u001b[1;32m     14\u001b[0m }\n\u001b[1;32m     15\u001b[0m \"\"\")\n\u001b[0;32m---> 16\u001b[0;31m \u001b[0mrun\u001b[0m\u001b[0;34m(\u001b[0m\u001b[0mmuons\u001b[0m \u001b[0;34m=\u001b[0m \u001b[0mmuons\u001b[0m\u001b[0;34m)\u001b[0m\u001b[0;34m\u001b[0m\u001b[0m\n\u001b[0m\u001b[1;32m     17\u001b[0m \u001b[0mrun\u001b[0m\u001b[0;34m[\u001b[0m\u001b[0;34m\"two muons\"\u001b[0m\u001b[0;34m,\u001b[0m \u001b[0;34m\"zmass\"\u001b[0m\u001b[0;34m]\u001b[0m\u001b[0;34m.\u001b[0m\u001b[0mplot\u001b[0m\u001b[0;34m(\u001b[0m\u001b[0;34m)\u001b[0m\u001b[0;34m\u001b[0m\u001b[0m\n",
      "\u001b[0;32m~/diana/analysis-description-language/binder/adl/interpreter.py\u001b[0m in \u001b[0;36m__call__\u001b[0;34m(self, source, **data)\u001b[0m\n\u001b[1;32m    720\u001b[0m                     \u001b[0;32mfor\u001b[0m \u001b[0mn\u001b[0m\u001b[0;34m,\u001b[0m \u001b[0mx\u001b[0m \u001b[0;32min\u001b[0m \u001b[0mfunctions\u001b[0m\u001b[0;34m.\u001b[0m\u001b[0mitems\u001b[0m\u001b[0;34m(\u001b[0m\u001b[0;34m)\u001b[0m\u001b[0;34m:\u001b[0m\u001b[0;34m\u001b[0m\u001b[0m\n\u001b[1;32m    721\u001b[0m                         \u001b[0monedata\u001b[0m\u001b[0;34m[\u001b[0m\u001b[0mn\u001b[0m\u001b[0;34m]\u001b[0m \u001b[0;34m=\u001b[0m \u001b[0mx\u001b[0m\u001b[0;34m\u001b[0m\u001b[0m\n\u001b[0;32m--> 722\u001b[0;31m                     \u001b[0msingle\u001b[0m \u001b[0;34m=\u001b[0m \u001b[0mself\u001b[0m\u001b[0;34m.\u001b[0m\u001b[0msingle\u001b[0m\u001b[0;34m(\u001b[0m\u001b[0msource\u001b[0m\u001b[0;34m=\u001b[0m\u001b[0msource\u001b[0m\u001b[0;34m,\u001b[0m \u001b[0;34m**\u001b[0m\u001b[0monedata\u001b[0m\u001b[0;34m)\u001b[0m\u001b[0;34m\u001b[0m\u001b[0m\n\u001b[0m\u001b[1;32m    723\u001b[0m                     \u001b[0;32mif\u001b[0m \u001b[0mout\u001b[0m \u001b[0;32mis\u001b[0m \u001b[0;32mNone\u001b[0m\u001b[0;34m:\u001b[0m\u001b[0;34m\u001b[0m\u001b[0m\n\u001b[1;32m    724\u001b[0m                         \u001b[0mout\u001b[0m \u001b[0;34m=\u001b[0m \u001b[0;34m{\u001b[0m\u001b[0mn\u001b[0m\u001b[0;34m:\u001b[0m \u001b[0;34m[\u001b[0m\u001b[0mx\u001b[0m\u001b[0;34m]\u001b[0m \u001b[0;32mfor\u001b[0m \u001b[0mn\u001b[0m\u001b[0;34m,\u001b[0m \u001b[0mx\u001b[0m \u001b[0;32min\u001b[0m \u001b[0msingle\u001b[0m\u001b[0;34m.\u001b[0m\u001b[0mitems\u001b[0m\u001b[0;34m(\u001b[0m\u001b[0;34m)\u001b[0m\u001b[0;34m}\u001b[0m\u001b[0;34m\u001b[0m\u001b[0m\n",
      "\u001b[0;32m~/diana/analysis-description-language/binder/adl/interpreter.py\u001b[0m in \u001b[0;36msingle\u001b[0;34m(self, source, **data)\u001b[0m\n\u001b[1;32m    731\u001b[0m         \u001b[0msymboltable\u001b[0m \u001b[0;34m=\u001b[0m \u001b[0mSymbolTable\u001b[0m\u001b[0;34m.\u001b[0m\u001b[0mroot\u001b[0m\u001b[0;34m(\u001b[0m\u001b[0mself\u001b[0m\u001b[0;34m.\u001b[0m\u001b[0mbuiltins\u001b[0m\u001b[0;34m,\u001b[0m \u001b[0mdata\u001b[0m\u001b[0;34m)\u001b[0m\u001b[0;34m\u001b[0m\u001b[0m\n\u001b[1;32m    732\u001b[0m         \u001b[0;32mfor\u001b[0m \u001b[0mstatement\u001b[0m \u001b[0;32min\u001b[0m \u001b[0mself\u001b[0m\u001b[0;34m.\u001b[0m\u001b[0mast\u001b[0m\u001b[0;34m.\u001b[0m\u001b[0mblock\u001b[0m\u001b[0;34m:\u001b[0m\u001b[0;34m\u001b[0m\u001b[0m\n\u001b[0;32m--> 733\u001b[0;31m             \u001b[0mhandle\u001b[0m\u001b[0;34m(\u001b[0m\u001b[0mstatement\u001b[0m\u001b[0;34m,\u001b[0m \u001b[0msource\u001b[0m\u001b[0;34m,\u001b[0m \u001b[0msymboltable\u001b[0m\u001b[0;34m,\u001b[0m \u001b[0mself\u001b[0m\u001b[0;34m.\u001b[0m\u001b[0maggregation\u001b[0m\u001b[0;34m)\u001b[0m\u001b[0;34m\u001b[0m\u001b[0m\n\u001b[0m\u001b[1;32m    734\u001b[0m         \u001b[0msymboltable\u001b[0m\u001b[0;34m.\u001b[0m\u001b[0mdropfunctions\u001b[0m\u001b[0;34m(\u001b[0m\u001b[0;34m)\u001b[0m\u001b[0;34m\u001b[0m\u001b[0m\n\u001b[1;32m    735\u001b[0m         \u001b[0;32mreturn\u001b[0m \u001b[0msymboltable\u001b[0m\u001b[0;34m.\u001b[0m\u001b[0msymbols\u001b[0m\u001b[0;34m\u001b[0m\u001b[0m\n",
      "\u001b[0;32m~/diana/analysis-description-language/binder/adl/interpreter.py\u001b[0m in \u001b[0;36mhandle\u001b[0;34m(statement, source, symboltable, aggregation)\u001b[0m\n\u001b[1;32m    185\u001b[0m                 \u001b[0msymboltable\u001b[0m \u001b[0;34m=\u001b[0m \u001b[0mSymbolTable\u001b[0m\u001b[0;34m(\u001b[0m\u001b[0msymboltable\u001b[0m\u001b[0;34m)\u001b[0m\u001b[0;34m\u001b[0m\u001b[0m\n\u001b[1;32m    186\u001b[0m                 \u001b[0;32mfor\u001b[0m \u001b[0mx\u001b[0m \u001b[0;32min\u001b[0m \u001b[0mstatement\u001b[0m\u001b[0;34m.\u001b[0m\u001b[0mblock\u001b[0m\u001b[0;34m:\u001b[0m\u001b[0;34m\u001b[0m\u001b[0m\n\u001b[0;32m--> 187\u001b[0;31m                     \u001b[0mhandle\u001b[0m\u001b[0;34m(\u001b[0m\u001b[0mx\u001b[0m\u001b[0;34m,\u001b[0m \u001b[0msource\u001b[0m\u001b[0;34m,\u001b[0m \u001b[0msymboltable\u001b[0m\u001b[0;34m,\u001b[0m \u001b[0msubaggregation\u001b[0m\u001b[0;34m)\u001b[0m\u001b[0;34m\u001b[0m\u001b[0m\n\u001b[0m\u001b[1;32m    188\u001b[0m \u001b[0;34m\u001b[0m\u001b[0m\n\u001b[1;32m    189\u001b[0m     \u001b[0;32melif\u001b[0m \u001b[0misinstance\u001b[0m\u001b[0;34m(\u001b[0m\u001b[0mstatement\u001b[0m\u001b[0;34m,\u001b[0m \u001b[0mSource\u001b[0m\u001b[0;34m)\u001b[0m\u001b[0;34m:\u001b[0m\u001b[0;34m\u001b[0m\u001b[0m\n",
      "\u001b[0;32m~/diana/analysis-description-language/binder/adl/interpreter.py\u001b[0m in \u001b[0;36mhandle\u001b[0;34m(statement, source, symboltable, aggregation)\u001b[0m\n\u001b[1;32m    117\u001b[0m \u001b[0;32mdef\u001b[0m \u001b[0mhandle\u001b[0m\u001b[0;34m(\u001b[0m\u001b[0mstatement\u001b[0m\u001b[0;34m,\u001b[0m \u001b[0msource\u001b[0m\u001b[0;34m,\u001b[0m \u001b[0msymboltable\u001b[0m\u001b[0;34m,\u001b[0m \u001b[0maggregation\u001b[0m\u001b[0;34m)\u001b[0m\u001b[0;34m:\u001b[0m\u001b[0;34m\u001b[0m\u001b[0m\n\u001b[1;32m    118\u001b[0m     \u001b[0;32mif\u001b[0m \u001b[0misinstance\u001b[0m\u001b[0;34m(\u001b[0m\u001b[0mstatement\u001b[0m\u001b[0;34m,\u001b[0m \u001b[0mDefine\u001b[0m\u001b[0;34m)\u001b[0m\u001b[0;34m:\u001b[0m\u001b[0;34m\u001b[0m\u001b[0m\n\u001b[0;32m--> 119\u001b[0;31m         \u001b[0msymboltable\u001b[0m\u001b[0;34m[\u001b[0m\u001b[0mstatement\u001b[0m\u001b[0;34m.\u001b[0m\u001b[0mtarget\u001b[0m\u001b[0;34m]\u001b[0m \u001b[0;34m=\u001b[0m \u001b[0mcalculate\u001b[0m\u001b[0;34m(\u001b[0m\u001b[0mstatement\u001b[0m\u001b[0;34m.\u001b[0m\u001b[0mexpression\u001b[0m\u001b[0;34m,\u001b[0m \u001b[0msymboltable\u001b[0m\u001b[0;34m)\u001b[0m\u001b[0;34m\u001b[0m\u001b[0m\n\u001b[0m\u001b[1;32m    120\u001b[0m \u001b[0;34m\u001b[0m\u001b[0m\n\u001b[1;32m    121\u001b[0m     \u001b[0;32melif\u001b[0m \u001b[0misinstance\u001b[0m\u001b[0;34m(\u001b[0m\u001b[0mstatement\u001b[0m\u001b[0;34m,\u001b[0m \u001b[0mFunctionDefine\u001b[0m\u001b[0;34m)\u001b[0m\u001b[0;34m:\u001b[0m\u001b[0;34m\u001b[0m\u001b[0m\n",
      "\u001b[0;32m~/diana/analysis-description-language/binder/adl/interpreter.py\u001b[0m in \u001b[0;36mcalculate\u001b[0;34m(expression, symboltable)\u001b[0m\n\u001b[1;32m     85\u001b[0m                         \u001b[0;32mraise\u001b[0m\u001b[0;34m\u001b[0m\u001b[0m\n\u001b[1;32m     86\u001b[0m                     \u001b[0;32melse\u001b[0m\u001b[0;34m:\u001b[0m\u001b[0;34m\u001b[0m\u001b[0m\n\u001b[0;32m---> 87\u001b[0;31m                         \u001b[0;32mraise\u001b[0m \u001b[0madl\u001b[0m\u001b[0;34m.\u001b[0m\u001b[0merror\u001b[0m\u001b[0;34m.\u001b[0m\u001b[0mADLRuntimeError\u001b[0m\u001b[0;34m(\u001b[0m\u001b[0;34m\"function raised {0}: {1}\"\u001b[0m\u001b[0;34m.\u001b[0m\u001b[0mformat\u001b[0m\u001b[0;34m(\u001b[0m\u001b[0mtype\u001b[0m\u001b[0;34m(\u001b[0m\u001b[0merr\u001b[0m\u001b[0;34m)\u001b[0m\u001b[0;34m.\u001b[0m\u001b[0m__name__\u001b[0m\u001b[0;34m,\u001b[0m \u001b[0mstr\u001b[0m\u001b[0;34m(\u001b[0m\u001b[0merr\u001b[0m\u001b[0;34m)\u001b[0m\u001b[0;34m)\u001b[0m\u001b[0;34m,\u001b[0m \u001b[0mexpression\u001b[0m\u001b[0;34m)\u001b[0m\u001b[0;34m\u001b[0m\u001b[0m\n\u001b[0m\u001b[1;32m     88\u001b[0m \u001b[0;34m\u001b[0m\u001b[0m\n\u001b[1;32m     89\u001b[0m         \u001b[0;32mif\u001b[0m \u001b[0misinstance\u001b[0m\u001b[0;34m(\u001b[0m\u001b[0mexpression\u001b[0m\u001b[0;34m.\u001b[0m\u001b[0mfunction\u001b[0m\u001b[0;34m,\u001b[0m \u001b[0mExpression\u001b[0m\u001b[0;34m)\u001b[0m\u001b[0;34m:\u001b[0m\u001b[0;34m\u001b[0m\u001b[0m\n",
      "\u001b[0;31mADLRuntimeError\u001b[0m: Line 9: function raised TypeError: 'float' object is not iterable\n                    .flatten\n--------------------^"
     ]
    }
   ],
   "source": [
    "run = adl.interpreter.Run(\"\"\"\n",
    "region \"two muons\": muons.size >= 2\n",
    "{\n",
    "\n",
    "  zmass := muons.distincts\n",
    "                .map(pair => (pair[0] + pair[1]))\n",
    "                .maxby(zcandidate => zcandidate.pt)\n",
    "                .map(zcandidate => zcandidate.mass)\n",
    "                .flatten\n",
    "\n",
    "  count \"zmass\" by\n",
    "    regular(12, 0, 120) <- zmass\n",
    "\n",
    "}\n",
    "\"\"\")\n",
    "run(muons = muons)\n",
    "run[\"two muons\", \"zmass\"].plot()"
   ]
  },
  {
   "cell_type": "code",
   "execution_count": null,
   "metadata": {},
   "outputs": [],
   "source": []
  }
 ],
 "metadata": {
  "kernelspec": {
   "display_name": "Python 3",
   "language": "python",
   "name": "python3"
  },
  "language_info": {
   "codemirror_mode": {
    "name": "ipython",
    "version": 3
   },
   "file_extension": ".py",
   "mimetype": "text/x-python",
   "name": "python",
   "nbconvert_exporter": "python",
   "pygments_lexer": "ipython3",
   "version": "3.7.0"
  }
 },
 "nbformat": 4,
 "nbformat_minor": 2
}
