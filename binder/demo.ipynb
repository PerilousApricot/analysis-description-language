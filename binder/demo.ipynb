{
 "cells": [
  {
   "cell_type": "markdown",
   "metadata": {},
   "source": [
    "# Jim's ADL demo\n",
    "\n",
    "[This repository](https://github.com/jpivarski/analysis-description-language) contains an example language parsed by PLY (a lex-yacc implementation in Python) and interpreted as an abstract syntax tree. Its purpose is to show how these tools make short work of language design and testing— 3 days and less than 3000 lines of code— and also to illustrate the syntactical points I made on Monday and Tuesday with a working language. In principle, this example language is complete enough to test on a real analysis.\n",
    "\n",
    "In our workshop, I think I got an idea of the problem you're solving: a generic programming language can express signal/control regions and systematic variations, but with too much flexibility— it hides the structure of the analysis. That's why you (both groups) introduced a block structure. However, when you want to compute complex physics objects and candidates formed by combinations of physics objects, the block structure gets unwieldy. I suggested that a functional expression-based syntax with arbitrarily deep nesting would simplify the handling of combinatorics.\n",
    "\n",
    "The language that I'll be presenting here uses blocks for its control structure and functional expressions to handle physics objects and candidates. It's not unusual for a language to have two fundamentally different types of syntax structures: Python has expressions and statements, C++ has expressions, statements, templated type expressions, preprocessor instructions, and maybe more. Only a few very pure languages (LISP, Haskell, Scala, and Rust) are expression-only.\n",
    "\n",
    "Although I wrote a fairly complete interpreter, it was written without performance in mind and is likely very slow. This is just to illustrate how the language ought to work; I have ideas about how this should be optimized (using [awkward-arrays](https://github.com/scikit-hep/awkward-array)). Interpreters are quick to write and therefore also quick to change in response to feedback. It does not perform a type-check and it operates on Python objects internally. Another implementation of the same language would use a different data representation."
   ]
  },
  {
   "cell_type": "code",
   "execution_count": 1,
   "metadata": {},
   "outputs": [],
   "source": [
    "%matplotlib inline\n",
    "import numpy\n",
    "import adl.interpreter"
   ]
  },
  {
   "cell_type": "markdown",
   "metadata": {},
   "source": [
    "First and foremost, it's a language for making histograms, or aggregating statistics in general. The ADL is inside the quoted string made executable by `adl.interpreter.Run`. To run it, we call it and pass it some variables (only numbers `x` in this case)."
   ]
  },
  {
   "cell_type": "code",
   "execution_count": 4,
   "metadata": {},
   "outputs": [],
   "source": [
    "run = adl.interpreter.Run(\"\"\"\n",
    "count \"histogram\" by\n",
    "  regular(100, -5, 5) <- x\n",
    "\"\"\")\n",
    "run(x = numpy.random.normal(0, 1, 10000));"
   ]
  },
  {
   "cell_type": "markdown",
   "metadata": {},
   "source": [
    "The `run` object is a container of histograms. We can find the histograms using the names provided in the code."
   ]
  },
  {
   "cell_type": "code",
   "execution_count": 5,
   "metadata": {},
   "outputs": [
    {
     "data": {
      "text/plain": [
       "<matplotlib.axes._subplots.AxesSubplot at 0x7f00dcd41710>"
      ]
     },
     "execution_count": 5,
     "metadata": {},
     "output_type": "execute_result"
    },
    {
     "data": {
      "image/png": "[encoded data removed]",
      "text/plain": [
       "<Figure size 432x288 with 1 Axes>"
      ]
     },
     "metadata": {
      "needs_background": "light"
     },
     "output_type": "display_data"
    }
   ],
   "source": [
    "run[\"histogram\"].plot()"
   ]
  },
  {
   "cell_type": "markdown",
   "metadata": {},
   "source": [
    "Why `count` instead of `histogram`? The `count` primitive just says we want to count something; the binning clauses after `by` say how we want to divide it up. After all, histograms are just binned counting."
   ]
  },
  {
   "cell_type": "code",
   "execution_count": 6,
   "metadata": {},
   "outputs": [],
   "source": [
    "run = adl.interpreter.Run(\"\"\"\n",
    "count \"not a histogram\"\n",
    "\"\"\")\n",
    "run(x = numpy.random.normal(0, 1, 10000));"
   ]
  },
  {
   "cell_type": "code",
   "execution_count": 7,
   "metadata": {},
   "outputs": [
    {
     "data": {
      "text/plain": [
       "<Count 'not a histogram': 10000 +- 100.0>"
      ]
     },
     "execution_count": 7,
     "metadata": {},
     "output_type": "execute_result"
    }
   ],
   "source": [
    "run[\"not a histogram\"]"
   ]
  },
  {
   "cell_type": "code",
   "execution_count": 8,
   "metadata": {},
   "outputs": [],
   "source": [
    "run = adl.interpreter.Run(\"\"\"\n",
    "count \"2D histogram\" by\n",
    "  regular(5, -5, 5)         <- x\n",
    "  variable(-5, -1, 0, 1, 5) <- y\n",
    "\"\"\")\n",
    "run(x = numpy.random.normal(0, 1, 10000),\n",
    "    y = numpy.random.normal(0, 1, 10000));"
   ]
  },
  {
   "cell_type": "code",
   "execution_count": 12,
   "metadata": {},
   "outputs": [
    {
     "name": "stdout",
     "output_type": "stream",
     "text": [
      "<Count '2D histogram', 'underflow', 'underflow': 0 +- 0.0>\n",
      "<Count '2D histogram', 'underflow', 0: 0 +- 0.0>\n",
      "<Count '2D histogram', 'underflow', 1: 0 +- 0.0>\n",
      "<Count '2D histogram', 'underflow', 2: 0 +- 0.0>\n",
      "<Count '2D histogram', 'underflow', 3: 0 +- 0.0>\n",
      "<Count '2D histogram', 'underflow', 'overflow': 0 +- 0.0>\n",
      "<Count '2D histogram', 'underflow', 'overflow': 0 +- 0.0>\n",
      "<Count '2D histogram', 0, 'underflow': 0 +- 0.0>\n",
      "<Count '2D histogram', 0, 0: 2 +- 1.4142135623730951>\n",
      "<Count '2D histogram', 0, 1: 6 +- 2.449489742783178>\n",
      "<Count '2D histogram', 0, 2: 4 +- 2.0>\n",
      "<Count '2D histogram', 0, 3: 2 +- 1.4142135623730951>\n",
      "<Count '2D histogram', 0, 'overflow': 0 +- 0.0>\n",
      "<Count '2D histogram', 0, 'overflow': 0 +- 0.0>\n",
      "<Count '2D histogram', 1, 'underflow': 0 +- 0.0>\n",
      "<Count '2D histogram', 1, 0: 295 +- 17.175564037317667>\n",
      "<Count '2D histogram', 1, 1: 533 +- 23.08679276123039>\n",
      "<Count '2D histogram', 1, 2: 543 +- 23.302360395462088>\n",
      "<Count '2D histogram', 1, 3: 243 +- 15.588457268119896>\n",
      "<Count '2D histogram', 1, 'overflow': 0 +- 0.0>\n",
      "<Count '2D histogram', 1, 'overflow': 0 +- 0.0>\n",
      "<Count '2D histogram', 2, 'underflow': 0 +- 0.0>\n",
      "<Count '2D histogram', 2, 0: 1096 +- 33.1058907144937>\n",
      "<Count '2D histogram', 2, 1: 2293 +- 47.885279575251516>\n",
      "<Count '2D histogram', 2, 2: 2302 +- 47.97916214358062>\n",
      "<Count '2D histogram', 2, 3: 1095 +- 33.090784215548595>\n",
      "<Count '2D histogram', 2, 'overflow': 0 +- 0.0>\n",
      "<Count '2D histogram', 2, 'overflow': 0 +- 0.0>\n",
      "<Count '2D histogram', 3, 'underflow': 0 +- 0.0>\n",
      "<Count '2D histogram', 3, 0: 227 +- 15.066519173319364>\n",
      "<Count '2D histogram', 3, 1: 516 +- 22.715633383201094>\n",
      "<Count '2D histogram', 3, 2: 570 +- 23.874672772626646>\n",
      "<Count '2D histogram', 3, 3: 263 +- 16.217274740226856>\n",
      "<Count '2D histogram', 3, 'overflow': 0 +- 0.0>\n",
      "<Count '2D histogram', 3, 'overflow': 0 +- 0.0>\n",
      "<Count '2D histogram', 4, 'underflow': 0 +- 0.0>\n",
      "<Count '2D histogram', 4, 0: 1 +- 1.0>\n",
      "<Count '2D histogram', 4, 1: 4 +- 2.0>\n",
      "<Count '2D histogram', 4, 2: 3 +- 1.7320508075688772>\n",
      "<Count '2D histogram', 4, 3: 2 +- 1.4142135623730951>\n",
      "<Count '2D histogram', 4, 'overflow': 0 +- 0.0>\n",
      "<Count '2D histogram', 4, 'overflow': 0 +- 0.0>\n",
      "<Count '2D histogram', 'overflow', 'underflow': 0 +- 0.0>\n",
      "<Count '2D histogram', 'overflow', 0: 0 +- 0.0>\n",
      "<Count '2D histogram', 'overflow', 1: 0 +- 0.0>\n",
      "<Count '2D histogram', 'overflow', 2: 0 +- 0.0>\n",
      "<Count '2D histogram', 'overflow', 3: 0 +- 0.0>\n",
      "<Count '2D histogram', 'overflow', 'overflow': 0 +- 0.0>\n",
      "<Count '2D histogram', 'overflow', 'overflow': 0 +- 0.0>\n"
     ]
    }
   ],
   "source": [
    "for i in range(-1, 6):\n",
    "    for j in range(-1, 6):\n",
    "        print(run[\"2D histogram\", i, j])"
   ]
  },
  {
   "cell_type": "markdown",
   "metadata": {},
   "source": [
    "There's no fundamental distinction between 1D, 2D, or nD histograms; they're all just 1D histograms of 1D histograms— a block of grid values to be sliced and projected. Several histogramming packages are moving this way ([histbook](https://github.com/scikit-hep/histbook), [Boost.Histogram](https://github.com/HDembinski/histogram), [ROOT 7](https://root.cern.ch/root-7))."
   ]
  },
  {
   "cell_type": "code",
   "execution_count": 13,
   "metadata": {},
   "outputs": [
    {
     "data": {
      "text/plain": [
       "<matplotlib.axes._subplots.AxesSubplot at 0x7f00dc6dfc50>"
      ]
     },
     "execution_count": 13,
     "metadata": {},
     "output_type": "execute_result"
    },
    {
     "data": {
      "image/png": "[encoded data removed]",
      "text/plain": [
       "<Figure size 432x288 with 1 Axes>"
      ]
     },
     "metadata": {
      "needs_background": "light"
     },
     "output_type": "display_data"
    }
   ],
   "source": [
    "run[\"2D histogram\", 3].plot()"
   ]
  },
  {
   "cell_type": "code",
   "execution_count": null,
   "metadata": {},
   "outputs": [],
   "source": []
  }
 ],
 "metadata": {
  "kernelspec": {
   "display_name": "Python 3",
   "language": "python",
   "name": "python3"
  },
  "language_info": {
   "codemirror_mode": {
    "name": "ipython",
    "version": 3
   },
   "file_extension": ".py",
   "mimetype": "text/x-python",
   "name": "python",
   "nbconvert_exporter": "python",
   "pygments_lexer": "ipython3",
   "version": "3.7.0"
  }
 },
 "nbformat": 4,
 "nbformat_minor": 2
}
