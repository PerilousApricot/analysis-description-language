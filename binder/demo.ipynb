{
 "cells": [
  {
   "cell_type": "markdown",
   "metadata": {},
   "source": [
    "# Jim's ADL demo\n",
    "\n",
    "[This repository](https://github.com/jpivarski/analysis-description-language) contains an example language parsed by PLY (a lex-yacc implementation in Python) and interpreted as an abstract syntax tree. Its purpose is to show how these tools make short work of language design and testing— 3 days and less than 3000 lines of code— and also to illustrate the syntactical points I made on Monday and Tuesday with a working language. In principle, this example language is complete enough to test on a real analysis.\n",
    "\n",
    "In our workshop, I think I got an idea of the problem you're solving: a generic programming language can express signal/control regions and systematic variations, but with too much flexibility— it hides the structure of the analysis. That's why you (both groups) introduced a block structure. However, when you want to compute complex physics objects and candidates formed by combinations of physics objects, the block structure gets unwieldy. I suggested that a functional expression-based syntax with arbitrarily deep nesting would simplify the handling of combinatorics.\n",
    "\n",
    "The language that I'll be presenting here uses blocks for its control structure and functional expressions to handle physics objects and candidates. It's not unusual for a language to have two fundamentally different types of syntax structures: Python has expressions and statements, C++ has expressions, statements, templated type expressions, preprocessor instructions, and maybe more. Only a few very pure languages (LISP, Haskell, Scala, and Rust) are expression-only.\n",
    "\n",
    "Although I wrote a fairly complete interpreter, it was written without performance in mind and is likely very slow. This is just to illustrate how the language ought to work; I have ideas about how this should be optimized (using [awkward-arrays](https://github.com/scikit-hep/awkward-array)). Interpreters are quick to write and therefore also quick to change in response to feedback. It does not perform a type-check and it operates on Python objects internally. Another implementation of the same language would use a different data representation."
   ]
  },
  {
   "cell_type": "code",
   "execution_count": 1,
   "metadata": {},
   "outputs": [],
   "source": [
    "%matplotlib inline\n",
    "import numpy\n",
    "import adl.interpreter"
   ]
  },
  {
   "cell_type": "markdown",
   "metadata": {},
   "source": [
    "## Histogramming\n",
    "\n",
    "First and foremost, it's a language for making histograms, or aggregating statistics in general. In the example below, the ADL is quoted in a string, made executable by `adl.interpreter.Run`. To run it, we call it and pass it some variables (only numbers `x` in this case)."
   ]
  },
  {
   "cell_type": "code",
   "execution_count": 2,
   "metadata": {},
   "outputs": [],
   "source": [
    "run = adl.interpreter.Run(\"\"\"\n",
    "count \"histogram\" by\n",
    "  regular(100, -5, 5) <- x\n",
    "\"\"\")\n",
    "run(x = numpy.random.normal(0, 1, 10000));"
   ]
  },
  {
   "cell_type": "markdown",
   "metadata": {},
   "source": [
    "The `run` object is a container of histograms. We can find the histograms using the names provided in the code."
   ]
  },
  {
   "cell_type": "code",
   "execution_count": 3,
   "metadata": {},
   "outputs": [
    {
     "data": {
      "text/plain": [
       "<matplotlib.axes._subplots.AxesSubplot at 0x7fdc04bc6b38>"
      ]
     },
     "execution_count": 3,
     "metadata": {},
     "output_type": "execute_result"
    },
    {
     "data": {
      "image/png": "[encoded data removed]",
      "text/plain": [
       "<Figure size 432x288 with 1 Axes>"
      ]
     },
     "metadata": {
      "needs_background": "light"
     },
     "output_type": "display_data"
    }
   ],
   "source": [
    "run[\"histogram\"].plot()"
   ]
  },
  {
   "cell_type": "markdown",
   "metadata": {},
   "source": [
    "Why `count` instead of `histogram`? The `count` primitive just says we want to count something; the binning clauses after `by` say how we want to divide it up. After all, histograms are just binned counting."
   ]
  },
  {
   "cell_type": "code",
   "execution_count": 4,
   "metadata": {},
   "outputs": [],
   "source": [
    "run = adl.interpreter.Run(\"\"\"\n",
    "count \"one-bin histogram\"\n",
    "\"\"\")\n",
    "run(x = numpy.random.normal(0, 1, 10000));"
   ]
  },
  {
   "cell_type": "code",
   "execution_count": 5,
   "metadata": {},
   "outputs": [
    {
     "data": {
      "text/plain": [
       "<Count 'one-bin histogram': 10000 +- 100.0>"
      ]
     },
     "execution_count": 5,
     "metadata": {},
     "output_type": "execute_result"
    }
   ],
   "source": [
    "run[\"one-bin histogram\"]"
   ]
  },
  {
   "cell_type": "code",
   "execution_count": 6,
   "metadata": {},
   "outputs": [],
   "source": [
    "run = adl.interpreter.Run(\"\"\"\n",
    "count \"2D histogram\" by\n",
    "  regular(5, -5, 5)         <- x\n",
    "  variable(-5, -1, 0, 1, 5) <- y\n",
    "\"\"\")\n",
    "run(x = numpy.random.normal(0, 1, 10000),\n",
    "    y = numpy.random.normal(0, 1, 10000));"
   ]
  },
  {
   "cell_type": "code",
   "execution_count": 7,
   "metadata": {},
   "outputs": [
    {
     "name": "stdout",
     "output_type": "stream",
     "text": [
      "<Count '2D histogram', 'underflow', 'underflow': 0 +- 0.0>\n",
      "<Count '2D histogram', 'underflow', 0: 0 +- 0.0>\n",
      "<Count '2D histogram', 'underflow', 1: 0 +- 0.0>\n",
      "<Count '2D histogram', 'underflow', 2: 0 +- 0.0>\n",
      "<Count '2D histogram', 'underflow', 3: 0 +- 0.0>\n",
      "<Count '2D histogram', 'underflow', 'overflow': 0 +- 0.0>\n",
      "<Count '2D histogram', 'underflow', 'overflow': 0 +- 0.0>\n",
      "<Count '2D histogram', 0, 'underflow': 0 +- 0.0>\n",
      "<Count '2D histogram', 0, 0: 2 +- 1.4142135623730951>\n",
      "<Count '2D histogram', 0, 1: 4 +- 2.0>\n",
      "<Count '2D histogram', 0, 2: 7 +- 2.6457513110645907>\n",
      "<Count '2D histogram', 0, 3: 3 +- 1.7320508075688772>\n",
      "<Count '2D histogram', 0, 'overflow': 0 +- 0.0>\n",
      "<Count '2D histogram', 0, 'overflow': 0 +- 0.0>\n",
      "<Count '2D histogram', 1, 'underflow': 0 +- 0.0>\n",
      "<Count '2D histogram', 1, 0: 275 +- 16.583123951777>\n",
      "<Count '2D histogram', 1, 1: 547 +- 23.388031127053>\n",
      "<Count '2D histogram', 1, 2: 575 +- 23.979157616563597>\n",
      "<Count '2D histogram', 1, 3: 258 +- 16.06237840420901>\n",
      "<Count '2D histogram', 1, 'overflow': 0 +- 0.0>\n",
      "<Count '2D histogram', 1, 'overflow': 0 +- 0.0>\n",
      "<Count '2D histogram', 2, 'underflow': 0 +- 0.0>\n",
      "<Count '2D histogram', 2, 0: 1093 +- 33.06055050963308>\n",
      "<Count '2D histogram', 2, 1: 2283 +- 47.78074926160116>\n",
      "<Count '2D histogram', 2, 2: 2250 +- 47.43416490252569>\n",
      "<Count '2D histogram', 2, 3: 1073 +- 32.7566787083184>\n",
      "<Count '2D histogram', 2, 'overflow': 0 +- 0.0>\n",
      "<Count '2D histogram', 2, 'overflow': 0 +- 0.0>\n",
      "<Count '2D histogram', 3, 'underflow': 0 +- 0.0>\n",
      "<Count '2D histogram', 3, 0: 270 +- 16.431676725154983>\n",
      "<Count '2D histogram', 3, 1: 580 +- 24.08318915758459>\n",
      "<Count '2D histogram', 3, 2: 525 +- 22.9128784747792>\n",
      "<Count '2D histogram', 3, 3: 246 +- 15.684387141358123>\n",
      "<Count '2D histogram', 3, 'overflow': 0 +- 0.0>\n",
      "<Count '2D histogram', 3, 'overflow': 0 +- 0.0>\n",
      "<Count '2D histogram', 4, 'underflow': 0 +- 0.0>\n",
      "<Count '2D histogram', 4, 0: 3 +- 1.7320508075688772>\n",
      "<Count '2D histogram', 4, 1: 2 +- 1.4142135623730951>\n",
      "<Count '2D histogram', 4, 2: 4 +- 2.0>\n",
      "<Count '2D histogram', 4, 3: 0 +- 0.0>\n",
      "<Count '2D histogram', 4, 'overflow': 0 +- 0.0>\n",
      "<Count '2D histogram', 4, 'overflow': 0 +- 0.0>\n",
      "<Count '2D histogram', 'overflow', 'underflow': 0 +- 0.0>\n",
      "<Count '2D histogram', 'overflow', 0: 0 +- 0.0>\n",
      "<Count '2D histogram', 'overflow', 1: 0 +- 0.0>\n",
      "<Count '2D histogram', 'overflow', 2: 0 +- 0.0>\n",
      "<Count '2D histogram', 'overflow', 3: 0 +- 0.0>\n",
      "<Count '2D histogram', 'overflow', 'overflow': 0 +- 0.0>\n",
      "<Count '2D histogram', 'overflow', 'overflow': 0 +- 0.0>\n"
     ]
    }
   ],
   "source": [
    "for i in range(-1, 6):\n",
    "    for j in range(-1, 6):\n",
    "        print(run[\"2D histogram\", i, j])"
   ]
  },
  {
   "cell_type": "markdown",
   "metadata": {},
   "source": [
    "There's no fundamental distinction between 1D, 2D, or nD histograms; they're all just 1D histograms of 1D histograms— a block of grid values to be sliced and projected. Several histogramming packages are moving this way (such as [histbook](https://github.com/scikit-hep/histbook), [Boost.Histogram](https://github.com/HDembinski/histogram), and [ROOT 7](https://root.cern.ch/root-7)).\n",
    "\n",
    "Here's a slice: bin 3 of the first axis is a 1D histogram (with variable-sized binning; see the code)."
   ]
  },
  {
   "cell_type": "code",
   "execution_count": 8,
   "metadata": {},
   "outputs": [
    {
     "data": {
      "text/plain": [
       "<matplotlib.axes._subplots.AxesSubplot at 0x7fdc04c2ef28>"
      ]
     },
     "execution_count": 8,
     "metadata": {},
     "output_type": "execute_result"
    },
    {
     "data": {
      "image/png": "[encoded data removed]",
      "text/plain": [
       "<Figure size 432x288 with 1 Axes>"
      ]
     },
     "metadata": {
      "needs_background": "light"
     },
     "output_type": "display_data"
    }
   ],
   "source": [
    "run[\"2D histogram\", 3].plot()"
   ]
  },
  {
   "cell_type": "markdown",
   "metadata": {},
   "source": [
    "An analysis includes many histograms, so an ADL source file would contain many such `count` statements and the resulting object would hold them all together in an organized way. (This could simplify the configuration of many-histogram fitters like HistFactory or Combiner.)"
   ]
  },
  {
   "cell_type": "code",
   "execution_count": 9,
   "metadata": {},
   "outputs": [],
   "source": [
    "run = adl.interpreter.Run(\"\"\"\n",
    "count \"first\" by\n",
    "  regular(100, -5, 5) <- x\n",
    "\n",
    "count \"second\" by\n",
    "  regular(100, 0, 5) <- x**2\n",
    "\"\"\")\n",
    "run(x = numpy.random.normal(0, 1, 10000));"
   ]
  },
  {
   "cell_type": "code",
   "execution_count": 10,
   "metadata": {},
   "outputs": [
    {
     "data": {
      "text/plain": [
       "<matplotlib.axes._subplots.AxesSubplot at 0x7fdc04c2e080>"
      ]
     },
     "execution_count": 10,
     "metadata": {},
     "output_type": "execute_result"
    },
    {
     "data": {
      "image/png": "[encoded data removed]",
      "text/plain": [
       "<Figure size 432x288 with 1 Axes>"
      ]
     },
     "metadata": {
      "needs_background": "light"
     },
     "output_type": "display_data"
    }
   ],
   "source": [
    "run[\"second\"].plot()"
   ]
  },
  {
   "cell_type": "markdown",
   "metadata": {},
   "source": [
    "## Other statistical aggregations\n",
    "\n",
    "For other types of aggregations, `count` can be replaced by `sum`, `profile`, or `fraction`."
   ]
  },
  {
   "cell_type": "code",
   "execution_count": 11,
   "metadata": {},
   "outputs": [],
   "source": [
    "run = adl.interpreter.Run(\"\"\"\n",
    "count    \"first\"       # no quantity\n",
    "sum      \"second\" x    # add up x\n",
    "profile  \"third\"  x    # compute mean and variance of x\n",
    "fraction \"fourth\" p    # compute fraction for which p is true\n",
    "\"\"\")\n",
    "run(x = [1, 2, 3, 4, 5], p = [False, False, True, True, False]);"
   ]
  },
  {
   "cell_type": "code",
   "execution_count": 12,
   "metadata": {},
   "outputs": [
    {
     "data": {
      "text/plain": [
       "<Count 'first': 5 +- 2.23606797749979>"
      ]
     },
     "execution_count": 12,
     "metadata": {},
     "output_type": "execute_result"
    }
   ],
   "source": [
    "run[\"first\"]"
   ]
  },
  {
   "cell_type": "code",
   "execution_count": 13,
   "metadata": {},
   "outputs": [
    {
     "data": {
      "text/plain": [
       "<Sum 'second': 15.0>"
      ]
     },
     "execution_count": 13,
     "metadata": {},
     "output_type": "execute_result"
    }
   ],
   "source": [
    "run[\"second\"]"
   ]
  },
  {
   "cell_type": "code",
   "execution_count": 14,
   "metadata": {},
   "outputs": [
    {
     "data": {
      "text/plain": [
       "<Profile 'third': 3.0 +- 0.6324555320336759>"
      ]
     },
     "execution_count": 14,
     "metadata": {},
     "output_type": "execute_result"
    }
   ],
   "source": [
    "run[\"third\"]"
   ]
  },
  {
   "cell_type": "code",
   "execution_count": 15,
   "metadata": {},
   "outputs": [
    {
     "data": {
      "text/plain": [
       "<Fraction 'fourth': 0.4 +- 0.4680694638641432>"
      ]
     },
     "execution_count": 15,
     "metadata": {},
     "output_type": "execute_result"
    }
   ],
   "source": [
    "run[\"fourth\"]"
   ]
  },
  {
   "cell_type": "code",
   "execution_count": 16,
   "metadata": {},
   "outputs": [
    {
     "data": {
      "text/plain": [
       "0.7857225398615839"
      ]
     },
     "execution_count": 16,
     "metadata": {},
     "output_type": "execute_result"
    }
   ],
   "source": [
    "run[\"fourth\"].error(method=\"wilson\")"
   ]
  },
  {
   "cell_type": "markdown",
   "metadata": {},
   "source": [
    "Of course, they can all be weighted."
   ]
  },
  {
   "cell_type": "code",
   "execution_count": 17,
   "metadata": {},
   "outputs": [],
   "source": [
    "run = adl.interpreter.Run(\"\"\"\n",
    "count \"histogram\" by\n",
    "  regular(100, -5, 5) <- x\n",
    "  weight x**2\n",
    "\"\"\")\n",
    "run(x = numpy.random.normal(0, 1, 10000));"
   ]
  },
  {
   "cell_type": "code",
   "execution_count": 18,
   "metadata": {},
   "outputs": [
    {
     "data": {
      "text/plain": [
       "<matplotlib.axes._subplots.AxesSubplot at 0x7fdc045e3c18>"
      ]
     },
     "execution_count": 18,
     "metadata": {},
     "output_type": "execute_result"
    },
    {
     "data": {
      "image/png": "[encoded data removed]",
      "text/plain": [
       "<Figure size 432x288 with 1 Axes>"
      ]
     },
     "metadata": {
      "needs_background": "light"
     },
     "output_type": "display_data"
    }
   ],
   "source": [
    "run[\"histogram\"].plot()"
   ]
  },
  {
   "cell_type": "markdown",
   "metadata": {},
   "source": [
    "## Signal and control regions\n",
    "\n",
    "So far what we've seen could almost be done with a standard histogramming package. The reason we want a language is to simplify the organization of many control regions and systematic variations. To define groups of event selections, use the `region` keyword."
   ]
  },
  {
   "cell_type": "code",
   "execution_count": 30,
   "metadata": {},
   "outputs": [],
   "source": [
    "x = numpy.random.normal(0, 1, 10000)\n",
    "y = x + numpy.random.normal(0, 0.1, 10000)\n",
    "\n",
    "run = adl.interpreter.Run(\"\"\"\n",
    "region \"signal\": x >= 0          # may be a complex predicate with and, or, not\n",
    "{\n",
    "  count \"histogram\" by\n",
    "    regular(100, -5, 5) <- y\n",
    "}\n",
    "\n",
    "region \"control\": x < 0\n",
    "{\n",
    "  count \"histogram\" by\n",
    "    regular(100, -5, 5) <- y\n",
    "}\n",
    "\"\"\")\n",
    "run(x = x, y = y);"
   ]
  },
  {
   "cell_type": "markdown",
   "metadata": {},
   "source": [
    "The histograms are nested within each region."
   ]
  },
  {
   "cell_type": "code",
   "execution_count": 22,
   "metadata": {},
   "outputs": [
    {
     "data": {
      "text/plain": [
       "<matplotlib.axes._subplots.AxesSubplot at 0x7fdc0426ecc0>"
      ]
     },
     "execution_count": 22,
     "metadata": {},
     "output_type": "execute_result"
    },
    {
     "data": {
      "image/png": "[encoded data removed]",
      "text/plain": [
       "<Figure size 432x288 with 1 Axes>"
      ]
     },
     "metadata": {
      "needs_background": "light"
     },
     "output_type": "display_data"
    },
    {
     "data": {
      "image/png": "[encoded data removed]",
      "text/plain": [
       "<Figure size 432x288 with 1 Axes>"
      ]
     },
     "metadata": {
      "needs_background": "light"
     },
     "output_type": "display_data"
    }
   ],
   "source": [
    "run[\"signal\", \"histogram\"].plot()\n",
    "run[\"control\", \"histogram\"].plot()"
   ]
  },
  {
   "cell_type": "markdown",
   "metadata": {},
   "source": [
    "The above example (and a lot of physics analyses!) involves dangerous duplication: we want to see the same histograms in all regions to compare them, but the names, binning, and fill expressions have to be kept the same by hand. To fix this problem, the `region` keyword can take multiple named predicates."
   ]
  },
  {
   "cell_type": "code",
   "execution_count": 25,
   "metadata": {},
   "outputs": [
    {
     "data": {
      "text/plain": [
       "<matplotlib.axes._subplots.AxesSubplot at 0x7fdc03bc08d0>"
      ]
     },
     "execution_count": 25,
     "metadata": {},
     "output_type": "execute_result"
    },
    {
     "data": {
      "image/png": "[encoded data removed]",
      "text/plain": [
       "<Figure size 432x288 with 1 Axes>"
      ]
     },
     "metadata": {
      "needs_background": "light"
     },
     "output_type": "display_data"
    },
    {
     "data": {
      "image/png": "[encoded data removed]",
      "text/plain": [
       "<Figure size 432x288 with 1 Axes>"
      ]
     },
     "metadata": {
      "needs_background": "light"
     },
     "output_type": "display_data"
    }
   ],
   "source": [
    "run = adl.interpreter.Run(\"\"\"\n",
    "region\n",
    "  \"signal\": x >= 1      # must be separated by newlines or semicolons\n",
    "  \"control\": x < 1\n",
    "{\n",
    "  count \"histogram\" by\n",
    "    regular(100, -5, 5) <- y\n",
    "}\n",
    "\"\"\")\n",
    "run(x = x, y = y);\n",
    "\n",
    "run[\"signal\", \"histogram\"].plot()\n",
    "run[\"control\", \"histogram\"].plot()"
   ]
  },
  {
   "cell_type": "markdown",
   "metadata": {},
   "source": [
    "Now imagine an analysis with a dozens of regions and hundreds of histograms in each. We only need to write the histogram parameters once (as above) inside a `region` with all the predicates listed. If we change a histogram, we don't have to change its partners in a dozen different places.\n",
    "\n",
    "If the regions represent non-overlapping rectangles, like the bins of a histogram, then we can use the same axis syntax to generate them. This avoids copy-paste errors in the predicates themselves."
   ]
  },
  {
   "cell_type": "code",
   "execution_count": 26,
   "metadata": {},
   "outputs": [
    {
     "data": {
      "text/plain": [
       "<matplotlib.axes._subplots.AxesSubplot at 0x7fdc039036a0>"
      ]
     },
     "execution_count": 26,
     "metadata": {},
     "output_type": "execute_result"
    },
    {
     "data": {
      "image/png": "[encoded data removed]",
      "text/plain": [
       "<Figure size 432x288 with 1 Axes>"
      ]
     },
     "metadata": {
      "needs_background": "light"
     },
     "output_type": "display_data"
    },
    {
     "data": {
      "image/png": "[encoded data removed]",
      "text/plain": [
       "<Figure size 432x288 with 1 Axes>"
      ]
     },
     "metadata": {
      "needs_background": "light"
     },
     "output_type": "display_data"
    }
   ],
   "source": [
    "run = adl.interpreter.Run(\"\"\"\n",
    "region \"slices\": true by      # predicate is \"true\" because all subdivision happens in the binning\n",
    "  regular(5, -5, 5) <- x\n",
    "{\n",
    "  count \"histogram\" by\n",
    "    regular(100, -5, 5) <- y\n",
    "}\n",
    "\"\"\")\n",
    "run(x = x, y = y);\n",
    "\n",
    "run[\"slices\", 2, \"histogram\"].plot()\n",
    "run[\"slices\", 3, \"histogram\"].plot()"
   ]
  },
  {
   "cell_type": "markdown",
   "metadata": {},
   "source": [
    "Now that we're defining rectangular regions and the bins of histograms using the same mechanism and extracting them using the same mechanism: strings for named regions and integers for sequential slices."
   ]
  },
  {
   "cell_type": "code",
   "execution_count": 27,
   "metadata": {},
   "outputs": [
    {
     "data": {
      "text/plain": [
       "<Count 'slices', 3, 'histogram', 75: 10 +- 3.1622776601683795>"
      ]
     },
     "execution_count": 27,
     "metadata": {},
     "output_type": "execute_result"
    }
   ],
   "source": [
    "run[\"slices\", 3, \"histogram\", 75]"
   ]
  },
  {
   "cell_type": "markdown",
   "metadata": {},
   "source": [
    "And of course, `regions` can be nested. A particularly complex analysis might need that. (This also is the reason for the curly brackets, to make the structure clear.)"
   ]
  },
  {
   "cell_type": "code",
   "execution_count": 31,
   "metadata": {},
   "outputs": [
    {
     "name": "stdout",
     "output_type": "stream",
     "text": [
      "<Count 'slices', 'underflow', 'one', 'counter': 0 +- 0.0>\n",
      "<Count 'slices', 'underflow', 'two', 'counter': 0 +- 0.0>\n",
      "<Count 'slices', 'underflow', 'three', 'counter': 0 +- 0.0>\n",
      "<Count 'slices', 0, 'one', 'counter': 2 +- 1.4142135623730951>\n",
      "<Count 'slices', 0, 'two', 'counter': 0 +- 0.0>\n",
      "<Count 'slices', 0, 'three', 'counter': 0 +- 0.0>\n",
      "<Count 'slices', 1, 'one', 'counter': 1541 +- 39.25557285278104>\n",
      "<Count 'slices', 1, 'two', 'counter': 0 +- 0.0>\n",
      "<Count 'slices', 1, 'three', 'counter': 0 +- 0.0>\n",
      "<Count 'slices', 2, 'one', 'counter': 6873 +- 82.90355842785037>\n",
      "<Count 'slices', 2, 'two', 'counter': 3473 +- 58.93216439263028>\n",
      "<Count 'slices', 2, 'three', 'counter': 0 +- 0.0>\n",
      "<Count 'slices', 3, 'one', 'counter': 1558 +- 39.4715087119811>\n",
      "<Count 'slices', 3, 'two', 'counter': 1558 +- 39.4715087119811>\n",
      "<Count 'slices', 3, 'three', 'counter': 1 +- 1.0>\n",
      "<Count 'slices', 4, 'one', 'counter': 12 +- 3.4641016151377544>\n",
      "<Count 'slices', 4, 'two', 'counter': 12 +- 3.4641016151377544>\n",
      "<Count 'slices', 4, 'three', 'counter': 11 +- 3.3166247903554>\n",
      "<Count 'slices', 'overflow', 'one', 'counter': 0 +- 0.0>\n",
      "<Count 'slices', 'overflow', 'two', 'counter': 0 +- 0.0>\n",
      "<Count 'slices', 'overflow', 'three', 'counter': 0 +- 0.0>\n"
     ]
    }
   ],
   "source": [
    "run = adl.interpreter.Run(\"\"\"\n",
    "region \"slices\": true by\n",
    "  regular(5, -5, 5) <- x\n",
    "{\n",
    "  region \"one\":   y > -3\n",
    "         \"two\":   y >  0\n",
    "         \"three\": y >  3\n",
    "  {\n",
    "    count \"counter\"\n",
    "  }\n",
    "}\n",
    "\"\"\")\n",
    "run(x = x, y = y);\n",
    "\n",
    "for i in range(-1, 6):\n",
    "    for j in \"one\", \"two\", \"three\":\n",
    "        print(run[\"slices\", i, j, \"counter\"])"
   ]
  },
  {
   "cell_type": "markdown",
   "metadata": {},
   "source": [
    "## Systematic variations\n",
    "\n",
    "Another aspect of physics analysis that often involves code duplication is varying quantities to gauge systematic errors. We want those in some auto-duplicating structure as well."
   ]
  },
  {
   "cell_type": "code",
   "execution_count": null,
   "metadata": {},
   "outputs": [],
   "source": []
  }
 ],
 "metadata": {
  "kernelspec": {
   "display_name": "Python 3",
   "language": "python",
   "name": "python3"
  },
  "language_info": {
   "codemirror_mode": {
    "name": "ipython",
    "version": 3
   },
   "file_extension": ".py",
   "mimetype": "text/x-python",
   "name": "python",
   "nbconvert_exporter": "python",
   "pygments_lexer": "ipython3",
   "version": "3.7.0"
  }
 },
 "nbformat": 4,
 "nbformat_minor": 2
}
